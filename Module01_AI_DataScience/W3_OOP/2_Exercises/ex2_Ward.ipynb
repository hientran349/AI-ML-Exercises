{
 "cells": [
  {
   "cell_type": "code",
   "execution_count": 14,
   "id": "59da6525",
   "metadata": {},
   "outputs": [
    {
     "name": "stdout",
     "output_type": "stream",
     "text": [
      "Student: name = student1 , yob = 1992 , grade = 90\n",
      "Student: name = doctor1 , yob = 1985 , specialist = general\n",
      "Student: name = teacher1 , yob = 1987 , subject = math\n"
     ]
    }
   ],
   "source": [
    "# a) Cài đặt các class Student, Doctor, và Teacher theo mô tả.\n",
    "# Thực hiện phương thức describe() method để in ra tất cả thông tin của các object\n",
    "from abc import ABC, abstractmethod\n",
    "\n",
    "class Person:\n",
    "    def __init__(self, name: str, yob: int):\n",
    "        if not isinstance(name, str):\n",
    "            raise Exception(\"name must be a string\")\n",
    "        if not isinstance(yob, int):\n",
    "            raise Exception(\"yob must be an integer\")\n",
    "    \n",
    "        self._name = name\n",
    "        self._yob = yob\n",
    "    \n",
    "    @abstractmethod\n",
    "    def describe(self):\n",
    "        pass\n",
    "\n",
    "class Student(Person):\n",
    "    def __init__(self, name: str, yob: int, grade: str):\n",
    "        if not isinstance(grade, str):\n",
    "            raise Exception(\"grade must be a string\")\n",
    "\n",
    "        super().__init__(name, yob)\n",
    "        self._grade = grade\n",
    "\n",
    "    def describe(self):\n",
    "        print(\"Student: name =\", self._name, \", yob =\", self._yob, \", grade =\", self._grade) \n",
    "\n",
    "\n",
    "class Doctor(Person):\n",
    "    def __init__(self, name: str, yob: int, specialist: str):\n",
    "        if not isinstance(specialist, str):\n",
    "            raise Exception(\"specialist must be a string\")\n",
    "\n",
    "        super().__init__(name, yob)\n",
    "        self._specialist = specialist\n",
    "\n",
    "    def describe(self):\n",
    "        print(\"Student: name =\", self._name, \", yob =\", self._yob, \", specialist =\", self._specialist) \n",
    "\n",
    "\n",
    "class Teacher(Person):\n",
    "    def __init__(self, name: str, yob: int, subject: str):\n",
    "        if not isinstance(subject, str):\n",
    "            raise Exception(\"specialist must be a string\")\n",
    "        \n",
    "        super().__init__(name, yob)\n",
    "        self._subject = subject\n",
    "\n",
    "    def describe(self):\n",
    "        print(\"Student: name =\", self._name, \", yob =\", self._yob, \", subject =\", self._subject) \n",
    "\n",
    "\n",
    "\n",
    "# TESTING\n",
    "stu1 = Student(name = \"student1\", yob = 1992, grade = \"90\")\n",
    "doctor1 = Doctor(name = \"doctor1\", yob = 1985, specialist = \"general\")\n",
    "teacher1 = Teacher(name = \"teacher1\", yob = 1987, subject = \"math\")\n",
    "\n",
    "for person in [stu1, doctor1, teacher1]:\n",
    "    person.describe()"
   ]
  },
  {
   "cell_type": "code",
   "execution_count": null,
   "id": "066e6410",
   "metadata": {},
   "outputs": [],
   "source": [
    "# (b) Viết add_person(person) method trong Ward class để add thêm một người mới với nghề\n",
    "# nghiệp bất kỳ (student, teacher, doctor) vào danh sách người của ward. Tạo ra một ward\n",
    "# object, và thêm vào 1 student, 2 teacher, và 2 doctor. Thực hiện describe() method để in ra\n",
    "# tên ward (name) và toàn bộ thông tin của từng người trong ward.\n",
    "\n",
    "# (c) Viết count_doctor() method để đếm số lượng doctor trong ward.\n",
    "\n",
    "# (d) Viết sort_age() method để sort mọi người trong ward theo tuổi của họ với thứ tự tăng dần.\n",
    "# (hint: Có thể sử dụng sort của list hoặc viết thêm function đều được)\n",
    "\n",
    "# (e) Viết compute_average() method để tính trung bình năm sinh của các teachers trong ward."
   ]
  }
 ],
 "metadata": {
  "kernelspec": {
   "display_name": "Python 3",
   "language": "python",
   "name": "python3"
  },
  "language_info": {
   "codemirror_mode": {
    "name": "ipython",
    "version": 3
   },
   "file_extension": ".py",
   "mimetype": "text/x-python",
   "name": "python",
   "nbconvert_exporter": "python",
   "pygments_lexer": "ipython3",
   "version": "3.10.6"
  }
 },
 "nbformat": 4,
 "nbformat_minor": 5
}
