{
 "cells": [
  {
   "cell_type": "markdown",
   "metadata": {},
   "source": [
    "• initialization method nhận một input \"capacity\": dùng để khởi tạo queue với capacity là\n",
    "số lượng element mà queue có thể chứa\n",
    "• .is_empty(): kiểm tra queue có đang rỗng\n",
    "• .is_full(): kiểm tra queue đã full chưa\n",
    "\n",
    "• .dequeue(): loại bỏ first element và trả về giá trị đó\n",
    "• .enqueue(value) add thêm value vào trong queue\n",
    "• .front() lấy giá trị first element hiện tại của queue, nhưng không loại bỏ giá trị đó"
   ]
  },
  {
   "cell_type": "code",
   "execution_count": 2,
   "metadata": {},
   "outputs": [
    {
     "name": "stdout",
     "output_type": "stream",
     "text": [
      "False\n",
      "1\n",
      "1\n",
      "2\n",
      "2\n",
      "True\n"
     ]
    }
   ],
   "source": [
    "class MyQueue:\n",
    "    # Initialization method\n",
    "    def __init__(self, capacity: int):\n",
    "        self._capacity = capacity\n",
    "        self._queue = []\n",
    "\n",
    "    # Is_empty check\n",
    "    def is_empty(self):\n",
    "        return len(self._queue) == 0\n",
    "\n",
    "    # Is_full check\n",
    "    def is_full(self):\n",
    "        return len(self._queue) == self._capacity\n",
    "\n",
    "    #.dequeue(): loại bỏ first element và trả về giá trị đó\n",
    "    def dequeue(self):\n",
    "        if (self.is_empty()):\n",
    "            raise Exception(\"Stack is empty\")\n",
    "            #print(\"Stack is empty\")\n",
    "        else: \n",
    "            return self._queue.pop(0)\n",
    "\n",
    "    #.enqueue(value) add thêm value vào trong queue\n",
    "    def enqueue(self, value):\n",
    "        if (self.is_full()):\n",
    "            raise Exception(\"Stack is full\")\n",
    "            #print(\"Stack is full\")\n",
    "        else:\n",
    "            self._queue.append(value)\n",
    "\n",
    "    # .front() lấy giá trị first element hiện tại của queue, nhưng không loại bỏ giá trị đó\n",
    "    def front(self):\n",
    "        if (self.is_empty()):\n",
    "            raise Exception(\"Stack is empty\")\n",
    "            #print(\"Stack is empty\")\n",
    "        else:\n",
    "            return self._queue[0]\n",
    "    \n",
    "    \n",
    "#### TESTING ####\n",
    "queue1 = MyQueue(capacity = 5)\n",
    "queue1.enqueue(1)\n",
    "queue1.enqueue(2)\n",
    "\n",
    "print ( queue1.is_full ())\n",
    "# >> False\n",
    " \n",
    "print ( queue1.front())\n",
    "# >> 1\n",
    "\n",
    "print ( queue1.dequeue())\n",
    "# >> 1\n",
    "\n",
    "print ( queue1.front())\n",
    "# >> 2\n",
    "\n",
    "print ( queue1.dequeue())\n",
    "# >> 2\n",
    "\n",
    "print ( queue1.is_empty())\n",
    "# >> True\n",
    "\n",
    "    "
   ]
  }
 ],
 "metadata": {
  "kernelspec": {
   "display_name": "Python 3",
   "language": "python",
   "name": "python3"
  },
  "language_info": {
   "codemirror_mode": {
    "name": "ipython",
    "version": 3
   },
   "file_extension": ".py",
   "mimetype": "text/x-python",
   "name": "python",
   "nbconvert_exporter": "python",
   "pygments_lexer": "ipython3",
   "version": "3.10.6"
  }
 },
 "nbformat": 4,
 "nbformat_minor": 2
}
