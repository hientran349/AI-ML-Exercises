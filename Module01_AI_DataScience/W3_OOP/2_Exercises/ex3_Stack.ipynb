{
 "cells": [
  {
   "cell_type": "code",
   "execution_count": 6,
   "metadata": {},
   "outputs": [
    {
     "name": "stdout",
     "output_type": "stream",
     "text": [
      "False\n",
      "2\n",
      "2\n",
      "1\n",
      "1\n",
      "True\n"
     ]
    }
   ],
   "source": [
    "class MyStack:\n",
    "\n",
    "    # Initializes the stack with a given capacity.\n",
    "    def __init__(self, capacity):\n",
    "        self._capacity = capacity\n",
    "        self._stack = []\n",
    "\n",
    "    # Checks if the stack is empty.\n",
    "    def is_empty(self):\n",
    "        return len(self._stack) == 0\n",
    "\n",
    "    # Checks if the stack is full.\n",
    "    def is_full(self):\n",
    "        return len(self._stack) == self._capacity\n",
    "\n",
    "    # Push a value into the stack\n",
    "    def push(self, value):\n",
    "        if (not self.is_full()):\n",
    "            self._stack.append(value)\n",
    "        else:\n",
    "            raise Exception(\"Stack is full\")\n",
    "            #print(\"Stack is full\")\n",
    "\n",
    "    # Removes and returns the top value from the stack.\n",
    "    def pop(self):\n",
    "        if self.is_empty():\n",
    "           raise Exception(\"Stack is empty\")\n",
    "           #print(\"Stack is empty\")\n",
    "        else:\n",
    "            return self._stack.pop()\n",
    "\n",
    "    # Returns the top value from the stack without removing it.\n",
    "    def top(self):\n",
    "        if self.is_empty():\n",
    "            raise Exception(\"Stack is empty\")\n",
    "            #print(\"Stack is empty\")\n",
    "        return self._stack[-1]\n",
    "\n",
    "\n",
    "#### TESTING #####\n",
    "# Example usage:\n",
    "stack1 = MyStack(capacity = 5)\n",
    "\n",
    "# Push values to the stack\n",
    "stack1.push(1)\n",
    "stack1.push(2)\n",
    "\n",
    "# Check if the stack is full\n",
    "print(stack1.is_full())  # Output: False\n",
    "\n",
    "# Get the top value\n",
    "print(stack1.top())  # Output: 2\n",
    "\n",
    "# Pop the top value\n",
    "print(stack1.pop())  # Output: 2\n",
    "\n",
    "# Get the top value \n",
    "print(stack1.top())  # Output: 1\n",
    "\n",
    "# Pop the top value \n",
    "print(stack1.pop())  # Output: 1\n",
    "\n",
    "# Check if the stack is empty\n",
    "print(stack1.is_empty())  # Output: True\n"
   ]
  }
 ],
 "metadata": {
  "kernelspec": {
   "display_name": "Python 3",
   "language": "python",
   "name": "python3"
  },
  "language_info": {
   "codemirror_mode": {
    "name": "ipython",
    "version": 3
   },
   "file_extension": ".py",
   "mimetype": "text/x-python",
   "name": "python",
   "nbconvert_exporter": "python",
   "pygments_lexer": "ipython3",
   "version": "3.10.6"
  }
 },
 "nbformat": 4,
 "nbformat_minor": 2
}
