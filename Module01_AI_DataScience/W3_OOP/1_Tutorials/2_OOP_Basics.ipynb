{
 "cells": [
  {
   "cell_type": "markdown",
   "metadata": {},
   "source": [
    "## Object-Oriented Programming (OOP) in Python"
   ]
  },
  {
   "cell_type": "markdown",
   "metadata": {},
   "source": [
    "### Introduction to OOP\n",
    "Object-Oriented Programming (OOP) is a programming paradigm that uses objects and classes to structure software in a way that is modular and reusable."
   ]
  },
  {
   "cell_type": "markdown",
   "metadata": {},
   "source": [
    "### Procedural vs Object-Oriented Programming\n",
    "- **Procedural Programming**: Top-down approach, focuses on functions and procedures.\n",
    "- **Object-Oriented Programming**: Bottom-up approach, focuses on objects that contain both data and functions."
   ]
  },
  {
   "cell_type": "markdown",
   "metadata": {},
   "source": [
    "### Key Concepts of OOP\n",
    "- **Encapsulation**: Bundling of data and methods that operate on that data within one unit (class).\n",
    "- **Inheritance**: Mechanism by which one class can inherit attributes and methods from another class.\n",
    "- **Polymorphism**: Ability to process objects differently based on their data type or class.\n",
    "- **Abstraction**: Hiding the complex implementation details and showing only the essential features of the object."
   ]
  },
  {
   "cell_type": "markdown",
   "metadata": {},
   "source": [
    "### Classes and Objects\n",
    "A class is a blueprint for creating objects. An object is an instance of a class."
   ]
  },
  {
   "cell_type": "code",
   "execution_count": null,
   "metadata": {},
   "outputs": [],
   "source": [
    "# Defining a class\n",
    "class Animal:\n",
    "    def __init__(self, name, age):\n",
    "        self.name = name\n",
    "        self.age = age\n",
    "    \n",
    "    def describe(self):\n",
    "        return f'{self.name} is {self.age} years old.'\n",
    "\n",
    "# Creating an object\n",
    "dog = Animal('Buddy', 5)\n",
    "print(dog.describe())  # Output: Buddy is 5 years old."
   ]
  },
  {
   "cell_type": "markdown",
   "metadata": {},
   "source": [
    "### Class Diagram\n",
    "A class diagram visually represents the structure of a class, including its attributes and methods."
   ]
  },
  {
   "cell_type": "markdown",
   "metadata": {},
   "source": [
    "```\n",
    "Class Name\n",
    "-------------\n",
    "Attributes\n",
    "-------------\n",
    "Methods\n",
    "```\n",
    "Example:\n",
    "```\n",
    "Animal\n",
    "-------------\n",
    "+ name: string\n",
    "+ age: int\n",
    "-------------\n",
    "+ describe(): string\n",
    "```"
   ]
  },
  {
   "cell_type": "markdown",
   "metadata": {},
   "source": [
    "### Implementation of Classes and Objects in Python\n",
    "Let's implement a class `Cat` with attributes `name` and `age`, and methods to describe the cat."
   ]
  },
  {
   "cell_type": "code",
   "execution_count": null,
   "metadata": {},
   "outputs": [],
   "source": [
    "# Defining the Cat class\n",
    "class Cat:\n",
    "    def __init__(self, name='Calico', age=0.8):\n",
    "        self.name = name\n",
    "        self.age = age\n",
    "    \n",
    "    def describe(self):\n",
    "        return f'{self.name} is {self.age} years old.'\n",
    "\n",
    "    def set_name(self, name):\n",
    "        self.name = name\n",
    "    \n",
    "    def get_name(self):\n",
    "        return self.name\n",
    "\n",
    "    def set_age(self, age):\n",
    "        self.age = age\n",
    "    \n",
    "    def get_age(self):\n",
    "        return self.age\n",
    "\n",
    "# Creating an object\n",
    "cat = Cat()\n",
    "print(cat.describe())  # Output: Calico is 0.8 years old.\n",
    "cat.set_name('Whiskers')\n",
    "cat.set_age(1.5)\n",
    "print(cat.describe())  # Output: Whiskers is 1.5 years old."
   ]
  },
  {
   "cell_type": "markdown",
   "metadata": {},
   "source": [
    "### Access Modifiers\n",
    "Access modifiers define the accessibility of the members of a class.\n",
    "- **Public**: Members are accessible from outside the class.\n",
    "- **Protected**: Members are accessible within the class and its subclasses.\n",
    "- **Private**: Members are accessible only within the class."
   ]
  },
  {
   "cell_type": "code",
   "execution_count": null,
   "metadata": {},
   "outputs": [],
   "source": [
    "# Access modifiers example\n",
    "class Example:\n",
    "    def __init__(self):\n",
    "        self.public = 'Public'\n",
    "        self._protected = 'Protected'\n",
    "        self.__private = 'Private'\n",
    "    \n",
    "    def get_private(self):\n",
    "        return self.__private\n",
    "\n",
    "obj = Example()\n",
    "print(obj.public)  # Output: Public\n",
    "print(obj._protected)  # Output: Protected\n",
    "# print(obj.__private)  # This will raise an AttributeError\n",
    "print(obj.get_private())  # Output: Private"
   ]
  },
  {
   "cell_type": "markdown",
   "metadata": {},
   "source": [
    "### Inheritance\n",
    "Inheritance allows a class to inherit attributes and methods from another class."
   ]
  },
  {
   "cell_type": "markdown",
   "metadata": {},
   "source": [
    "#### Single Inheritance"
   ]
  },
  {
   "cell_type": "code",
   "execution_count": null,
   "metadata": {},
   "outputs": [],
   "source": [
    "# Single inheritance example\n",
    "class Animal:\n",
    "    def __init__(self, name):\n",
    "        self.name = name\n",
    "    \n",
    "    def make_sound(self):\n",
    "        raise NotImplementedError('Subclasses must implement this method')\n",
    "\n",
    "class Dog(Animal):\n",
    "    def make_sound(self):\n",
    "        return f'{self.name} says woof!'\n",
    "\n",
    "dog = Dog('Buddy')\n",
    "print(dog.make_sound())  # Output: Buddy says woof!"
   ]
  },
  {
   "cell_type": "markdown",
   "metadata": {},
   "source": [
    "#### Multiple Inheritance"
   ]
  },
  {
   "cell_type": "code",
   "execution_count": null,
   "metadata": {},
   "outputs": [],
   "source": [
    "# Multiple inheritance example\n",
    "class Father:\n",
    "    def advise(self):\n",
    "        return 'Father advises'\n",
    "\n",
    "class Mother:\n",
    "    def advise(self):\n",
    "        return 'Mother advises'\n",
    "\n",
    "class Child(Father, Mother):\n",
    "    def get_advice(self):\n",
    "        return self.advise()\n",
    "\n",
    "child = Child()\n",
    "print(child.get_advice())  # Output: Father advises"
   ]
  },
  {
   "cell_type": "markdown",
   "metadata": {},
   "source": [
    "#### Multilevel Inheritance"
   ]
  },
  {
   "cell_type": "code",
   "execution_count": null,
   "metadata": {},
   "outputs": [],
   "source": [
    "# Multilevel inheritance example\n",
    "class Animal:\n",
    "    def describe(self):\n",
    "        return 'Animal'\n",
    "\n",
    "class Mammal(Animal):\n",
    "    def describe(self):\n",
    "        return super().describe() + ' -> Mammal'\n",
    "\n",
    "class Dog(Mammal):\n",
    "    def describe(self):\n",
    "        return super().describe() + ' -> Dog'\n",
    "\n",
    "dog = Dog()\n",
    "print(dog.describe())  # Output: Animal -> Mammal -> Dog"
   ]
  },
  {
   "cell_type": "markdown",
   "metadata": {},
   "source": [
    "### Polymorphism\n",
    "Polymorphism allows the same interface to be used for different data types."
   ]
  },
  {
   "cell_type": "code",
   "execution_count": null,
   "metadata": {},
   "outputs": [],
   "source": [
    "# Polymorphism example\n",
    "class Cat(Animal):\n",
    "    def make_sound(self):\n",
    "        return f'{self.name} says meow!'\n",
    "\n",
    "animals = [Dog('Buddy'), Cat('Whiskers')]\n",
    "\n",
    "for animal in animals:\n",
    "    print(animal.make_sound())"
   ]
  },
  {
   "cell_type": "markdown",
   "metadata": {},
   "source": [
    "### Abstract Classes\n",
    "Abstract classes are classes that cannot be instantiated. They are meant to be subclassed and contain one or more abstract methods."
   ]
  },
  {
   "cell_type": "code",
   "execution_count": null,
   "metadata": {},
   "outputs": [],
   "source": [
    "# Abstract class example\n",
    "from abc import ABC, abstractmethod\n",
    "\n",
    "class Shape(ABC):\n",
    "    @abstractmethod\n",
    "    def area(self):\n",
    "        pass\n",
    "    \n",
    "    @abstractmethod\n",
    "    def perimeter(self):\n",
    "        pass\n",
    "\n",
    "class Square(Shape):\n",
    "    def __init__(self, side):\n",
    "        self.side = side\n",
    "    \n",
    "    def area(self):\n",
    "        return self.side ** 2\n",
    "    \n",
    "    def perimeter(self):\n",
    "        return 4 * self.side\n",
    "\n",
    "square = Square(4)\n",
    "print(square.area())       # Output: 16\n",
    "print(square.perimeter())  # Output: 16"
   ]
  },
  {
   "cell_type": "markdown",
   "metadata": {},
   "source": [
    "### Stack and Queue\n",
    "Stacks and queues are linear data structures used for storing and managing data."
   ]
  },
  {
   "cell_type": "markdown",
   "metadata": {},
   "source": [
    "#### Stack\n",
    "A stack follows Last In First Out (LIFO) principle."
   ]
  },
  {
   "cell_type": "code",
   "execution_count": null,
   "metadata": {},
   "outputs": [],
   "source": [
    "# Stack implementation using list\n",
    "class Stack:\n",
    "    def __init__(self):\n",
    "        self.stack = []\n",
    "    \n",
    "    def push(self, value):\n",
    "        self.stack.append(value)\n",
    "    \n",
    "    def pop(self):\n",
    "        if not self.is_empty():\n",
    "            return self.stack.pop()\n",
    "        else:\n",
    "            return 'Stack is empty'\n",
    "    \n",
    "    def is_empty(self):\n",
    "        return len(self.stack) == 0\n",
    "    \n",
    "    def peek(self):\n",
    "        if not self.is_empty():\n",
    "            return self.stack[-1]\n",
    "        else:\n",
    "            return 'Stack is empty'\n",
    "\n",
    "# Creating a stack\n",
    "stack = Stack()\n",
    "stack.push(1)\n",
    "stack.push(2)\n",
    "stack.push(3)\n",
    "print(stack.pop())  # Output: 3\n",
    "print(stack.peek())  # Output: 2\n",
    "print(stack.is_empty())  # Output: False\n",
    "stack.pop()\n",
    "stack.pop()\n",
    "print(stack.is_empty())  # Output: True"
   ]
  },
  {
   "cell_type": "markdown",
   "metadata": {},
   "source": [
    "#### Queue\n",
    "A queue follows First In First Out (FIFO) principle."
   ]
  },
  {
   "cell_type": "code",
   "execution_count": null,
   "metadata": {},
   "outputs": [],
   "source": [
    "# Queue implementation using list\n",
    "class Queue:\n",
    "    def __init__(self):\n",
    "        self.queue = []\n",
    "    \n",
    "    def enqueue(self, value):\n",
    "        self.queue.append(value)\n",
    "    \n",
    "    def dequeue(self):\n",
    "        if not self.is_empty():\n",
    "            return self.queue.pop(0)\n",
    "        else:\n",
    "            return 'Queue is empty'\n",
    "    \n",
    "    def is_empty(self):\n",
    "        return len(self.queue) == 0\n",
    "    \n",
    "    def peek(self):\n",
    "        if not self.is_empty():\n",
    "            return self.queue[0]\n",
    "        else:\n",
    "            return 'Queue is empty'\n",
    "\n",
    "# Creating a queue\n",
    "queue = Queue()\n",
    "queue.enqueue(1)\n",
    "queue.enqueue(2)\n",
    "queue.enqueue(3)\n",
    "print(queue.dequeue())  # Output: 1\n",
    "print(queue.peek())  # Output: 2\n",
    "print(queue.is_empty())  # Output: False\n",
    "queue.dequeue()\n",
    "queue.dequeue()\n",
    "print(queue.is_empty())  # Output: True"
   ]
  },
  {
   "cell_type": "markdown",
   "metadata": {},
   "source": [
    "### Summary\n",
    "This tutorial covered the following key concepts in OOP:\n",
    "- Procedural vs Object-Oriented Programming\n",
    "- Key Concepts: Encapsulation, Inheritance, Polymorphism, Abstraction\n",
    "- Classes and Objects\n",
    "- Class Diagram\n",
    "- Implementation of Classes and Objects\n",
    "- Access Modifiers\n",
    "- Inheritance\n",
    "- Polymorphism\n",
    "- Abstract Classes\n",
    "- Stack and Queue"
   ]
  }
 ],
 "metadata": {
  "kernelspec": {
   "display_name": "Python 3",
   "language": "python",
   "name": "python3"
  },
  "language_info": {
   "name": "python",
   "version": "3.8.5"
  }
 },
 "nbformat": 4,
 "nbformat_minor": 4
}
