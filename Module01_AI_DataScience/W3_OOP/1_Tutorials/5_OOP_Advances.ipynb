{
 "cells": [
  {
   "cell_type": "markdown",
   "metadata": {},
   "source": [
    "# Object-Oriented Programming (OOP) in Python\n",
    "## Inheritance and Applications"
   ]
  },
  {
   "cell_type": "markdown",
   "metadata": {},
   "source": [
    "### Objectives\n",
    "- Understand inheritance and its applications in Python OOP.\n",
    "- Learn about access modifiers.\n",
    "- Implement examples using inheritance, overriding, and creating custom classes in PyTorch."
   ]
  },
  {
   "cell_type": "markdown",
   "metadata": {},
   "source": [
    "### Review: Access Modifiers\n",
    "- **Private (`__name`)**: Accessible only within the class.\n",
    "- **Protected (`_name`)**: Should be used within the class and its subclasses (convention).\n",
    "- **Public (`name`)**: Accessible from anywhere."
   ]
  },
  {
   "cell_type": "markdown",
   "metadata": {},
   "source": [
    "### Inheritance\n",
    "Inheritance is a mechanism by which one class can inherit attributes and methods from another class.\n",
    "- **Superclass (Base Class, Parent Class)**: The class being inherited from.\n",
    "- **Subclass (Derived Class, Child Class)**: The class that inherits from another class."
   ]
  },
  {
   "cell_type": "markdown",
   "metadata": {},
   "source": [
    "#### Example: Person and Employee\n",
    "A `Person` class with common attributes and an `Employee` class that inherits from `Person` and adds more specific attributes."
   ]
  },
  {
   "cell_type": "code",
   "execution_count": null,
   "metadata": {},
   "outputs": [],
   "source": [
    "# Defining the Person class\n",
    "class Person:\n",
    "    def __init__(self, name):\n",
    "        self.name = name\n",
    "    \n",
    "    def get_name(self):\n",
    "        return self.name\n",
    "\n",
    "# Defining the Employee class that inherits from Person\n",
    "class Employee(Person):\n",
    "    def __init__(self, name, annual_salary, year_of_starting_work, insurance_number):\n",
    "        super().__init__(name)\n",
    "        self.annual_salary = annual_salary\n",
    "        self.year_of_starting_work = year_of_starting_work\n",
    "        self.insurance_number = insurance_number\n",
    "    \n",
    "    def compute_salary(self):\n",
    "        return self.annual_salary * 3.0\n",
    "\n",
    "# Creating an Employee object\n",
    "employee = Employee('Peter', 60000, 2015, 'INS12345')\n",
    "print(f'Employee Name: {employee.get_name()}')\n",
    "print(f'Annual Salary: {employee.annual_salary}')\n",
    "print(f'Computed Salary: {employee.compute_salary()}')"
   ]
  },
  {
   "cell_type": "markdown",
   "metadata": {},
   "source": [
    "### Overriding Methods\n",
    "A subclass can provide a specific implementation of a method that is already defined in its superclass."
   ]
  },
  {
   "cell_type": "markdown",
   "metadata": {},
   "source": [
    "#### Example: Employee and Manager\n",
    "An `Employee` class with a method to compute salary and a `Manager` class that overrides this method to include a bonus."
   ]
  },
  {
   "cell_type": "code",
   "execution_count": null,
   "metadata": {},
   "outputs": [],
   "source": [
    "# Defining the Employee class\n",
    "class Employee:\n",
    "    def __init__(self, name, salary):\n",
    "        self.name = name\n",
    "        self.salary = salary\n",
    "    \n",
    "    def compute_salary(self):\n",
    "        return self.salary * 3.0\n",
    "\n",
    "# Defining the Manager class that inherits from Employee\n",
    "class Manager(Employee):\n",
    "    def __init__(self, name, salary, bonus):\n",
    "        super().__init__(name, salary)\n",
    "        self.bonus = bonus\n",
    "    \n",
    "    def compute_salary(self):\n",
    "        return super().compute_salary() + self.bonus\n",
    "\n",
    "# Creating a Manager object\n",
    "manager = Manager('Mary', 60000, 50000)\n",
    "print(f'Manager Name: {manager.name}')\n",
    "print(f'Computed Salary: {manager.compute_salary()}')"
   ]
  },
  {
   "cell_type": "markdown",
   "metadata": {},
   "source": [
    "### Multiple and Multilevel Inheritance\n",
    "- **Multiple Inheritance**: A class can inherit from more than one base class.\n",
    "- **Multilevel Inheritance**: A class can inherit from a class which is also derived from another class."
   ]
  },
  {
   "cell_type": "markdown",
   "metadata": {},
   "source": [
    "#### Example: Multiple Inheritance"
   ]
  },
  {
   "cell_type": "code",
   "execution_count": null,
   "metadata": {},
   "outputs": [],
   "source": [
    "# Defining the Father class\n",
    "class Father:\n",
    "    def advise(self):\n",
    "        return 'Father advises'\n",
    "\n",
    "# Defining the Mother class\n",
    "class Mother:\n",
    "    def advise(self):\n",
    "        return 'Mother advises'\n",
    "\n",
    "# Defining the Child class that inherits from both Father and Mother\n",
    "class Child(Father, Mother):\n",
    "    def get_advice(self):\n",
    "        return self.advise()\n",
    "\n",
    "# Creating a Child object\n",
    "child = Child()\n",
    "print(child.get_advice())  # Output: Father advises"
   ]
  },
  {
   "cell_type": "markdown",
   "metadata": {},
   "source": [
    "#### Example: Multilevel Inheritance"
   ]
  },
  {
   "cell_type": "code",
   "execution_count": null,
   "metadata": {},
   "outputs": [],
   "source": [
    "# Defining the Animal class\n",
    "class Animal:\n",
    "    def describe(self):\n",
    "        return 'Animal'\n",
    "\n",
    "# Defining the Mammal class that inherits from Animal\n",
    "class Mammal(Animal):\n",
    "    def describe(self):\n",
    "        return super().describe() + ' -> Mammal'\n",
    "\n",
    "# Defining the Dog class that inherits from Mammal\n",
    "class Dog(Mammal):\n",
    "    def describe(self):\n",
    "        return super().describe() + ' -> Dog'\n",
    "\n",
    "# Creating a Dog object\n",
    "dog = Dog()\n",
    "print(dog.describe())  # Output: Animal -> Mammal -> Dog"
   ]
  },
  {
   "cell_type": "markdown",
   "metadata": {},
   "source": [
    "### Abstract Classes\n",
    "Abstract classes cannot be instantiated and are meant to be subclassed. They often contain one or more abstract methods."
   ]
  },
  {
   "cell_type": "markdown",
   "metadata": {},
   "source": [
    "#### Example: Shape, Square, and Circle"
   ]
  },
  {
   "cell_type": "code",
   "execution_count": null,
   "metadata": {},
   "outputs": [],
   "source": [
    "from abc import ABC, abstractmethod\n",
    "\n",
    "# Defining the abstract Shape class\n",
    "class Shape(ABC):\n",
    "    @abstractmethod\n",
    "    def area(self):\n",
    "        pass\n",
    "    \n",
    "    @abstractmethod\n",
    "    def perimeter(self):\n",
    "        pass\n",
    "\n",
    "# Defining the Square class that inherits from Shape\n",
    "class Square(Shape):\n",
    "    def __init__(self, side):\n",
    "        self.side = side\n",
    "    \n",
    "    def area(self):\n",
    "        return self.side ** 2\n",
    "    \n",
    "    def perimeter(self):\n",
    "        return 4 * self.side\n",
    "\n",
    "# Defining the Circle class that inherits from Shape\n",
    "class Circle(Shape):\n",
    "    def __init__(self, radius):\n",
    "        self.radius = radius\n",
    "    \n",
    "    def area(self):\n",
    "        return 3.14 * self.radius ** 2\n",
    "    \n",
    "    def perimeter(self):\n",
    "        return 2 * 3.14 * self.radius\n",
    "\n",
    "# Creating a Square and Circle object\n",
    "square = Square(4)\n",
    "circle = Circle(3)\n",
    "print(f'Square Area: {square.area()}, Perimeter: {square.perimeter()}')  # Output: Square Area: 16, Perimeter: 16\n",
    "print(f'Circle Area: {circle.area()}, Perimeter: {circle.perimeter()}')  # Output: Circle Area: 28.26, Perimeter: 18.84"
   ]
  },
  {
   "cell_type": "markdown",
   "metadata": {},
   "source": [
    "### Custom Class in PyTorch\n",
    "Implementing custom layers in PyTorch, such as a custom ReLU layer."
   ]
  },
  {
   "cell_type": "code",
   "execution_count": null,
   "metadata": {},
   "outputs": [],
   "source": [
    "import torch\n",
    "import torch.nn as nn\n",
    "\n",
    "# Defining a custom ReLU layer\n",
    "class CustomReLU(nn.Module):\n",
    "    def __init__(self):\n",
    "        super(CustomReLU, self).__init__()\n",
    "    \n",
    "    def forward(self, x):\n",
    "        return torch.maximum(torch.tensor(0.0), x)\n",
    "\n",
    "# Example usage\n",
    "relu = CustomReLU()\n",
    "x = torch.tensor([-1.0, 0.0, 1.0, 2.0])\n",
    "output = relu(x)\n",
    "print(output)  # Output: tensor([0., 0., 1., 2.])"
   ]
  },
  {
   "cell_type": "markdown",
   "metadata": {},
   "source": [
    "### Summary\n",
    "This tutorial covered the following key concepts in OOP:\n",
    "- Access Modifiers\n",
    "- Inheritance\n",
    "- Method Overriding\n",
    "- Multiple and Multilevel Inheritance\n",
    "- Abstract Classes\n",
    "- Custom Classes in PyTorch"
   ]
  },
  {
   "cell_type": "markdown",
   "metadata": {},
   "source": [
    "# Design Patterns in Python\n",
    "## Example: Managing Birds in a Shop"
   ]
  },
  {
   "cell_type": "markdown",
   "metadata": {},
   "source": [
    "### Introduction\n",
    "Design patterns provide solutions to common software design problems. They can speed up development and ensure code quality. In this tutorial, we will discuss a simple example of a design pattern for managing birds in a shop using abstract classes."
   ]
  },
  {
   "cell_type": "markdown",
   "metadata": {},
   "source": [
    "### Problem Statement\n",
    "Develop a system to manage birds for a shop. The shop wants to manage only parrots, which have color and activities like eating and flying. Design a system that is extensible."
   ]
  },
  {
   "cell_type": "markdown",
   "metadata": {},
   "source": [
    "### Solution: Using Abstract Classes\n",
    "Abstract classes are classes that cannot be instantiated and are designed to be subclassed. They provide a way to define common methods that can be implemented differently in each subclass."
   ]
  },
  {
   "cell_type": "markdown",
   "metadata": {},
   "source": [
    "### Step 1: Define the Abstract Bird Class\n",
    "The Bird class will serve as the base abstract class."
   ]
  },
  {
   "cell_type": "code",
   "execution_count": 1,
   "metadata": {},
   "outputs": [],
   "source": [
    "from abc import ABC, abstractmethod\n",
    "\n",
    "# Define the abstract Bird class\n",
    "class Bird(ABC):\n",
    "    def __init__(self, color):\n",
    "        self.color = color\n",
    "    \n",
    "    @abstractmethod\n",
    "    def eat(self):\n",
    "        pass"
   ]
  },
  {
   "cell_type": "markdown",
   "metadata": {},
   "source": [
    "### Step 2: Define the Abstract FlyingBird Class\n",
    "Create another abstract class for flying birds that inherits from Bird."
   ]
  },
  {
   "cell_type": "code",
   "execution_count": 2,
   "metadata": {},
   "outputs": [],
   "source": [
    "# Define the abstract FlyingBird class\n",
    "class FlyingBird(Bird):\n",
    "    def __init__(self, color, wing_span):\n",
    "        super().__init__(color)\n",
    "        self.wing_span = wing_span\n",
    "    \n",
    "    @abstractmethod\n",
    "    def fly(self):\n",
    "        pass"
   ]
  },
  {
   "cell_type": "markdown",
   "metadata": {},
   "source": [
    "### Step 3: Implement Parrot Class\n",
    "Create a concrete class for Parrot that implements the abstract methods."
   ]
  },
  {
   "cell_type": "code",
   "execution_count": 3,
   "metadata": {},
   "outputs": [],
   "source": [
    "# Implement the Parrot class\n",
    "class Parrot(FlyingBird):\n",
    "    def __init__(self, color, wing_span):\n",
    "        super().__init__(color, wing_span)\n",
    "    \n",
    "    def eat(self):\n",
    "        print(f'The {self.color} parrot is eating.')\n",
    "    \n",
    "    def fly(self):\n",
    "        print(f'The {self.color} parrot is flying with a wing span of {self.wing_span} cm.')"
   ]
  },
  {
   "cell_type": "markdown",
   "metadata": {},
   "source": [
    "### Step 4: Implement Penguin Class"
   ]
  },
  {
   "cell_type": "code",
   "execution_count": 5,
   "metadata": {},
   "outputs": [],
   "source": [
    "class Penguin(Bird):\n",
    "    def eat(self):\n",
    "        print(f'The {self.color} penguin is eating.')"
   ]
  },
  {
   "cell_type": "markdown",
   "metadata": {},
   "source": [
    "### Step 5: Create Instances of Parrot and Penguin\n",
    "Create instances and demonstrate the functionality."
   ]
  },
  {
   "cell_type": "code",
   "execution_count": 8,
   "metadata": {},
   "outputs": [
    {
     "name": "stdout",
     "output_type": "stream",
     "text": [
      "The green parrot is eating seeds.\n",
      "The green parrot is flying with a wing span of 25 cm.\n",
      "The black and white penguin is eating.\n"
     ]
    },
    {
     "ename": "",
     "evalue": "",
     "output_type": "error",
     "traceback": [
      "\u001b[1;31mThe Kernel crashed while executing code in the current cell or a previous cell. \n",
      "\u001b[1;31mPlease review the code in the cell(s) to identify a possible cause of the failure. \n",
      "\u001b[1;31mClick <a href='https://aka.ms/vscodeJupyterKernelCrash'>here</a> for more info. \n",
      "\u001b[1;31mView Jupyter <a href='command:jupyter.viewOutput'>log</a> for further details."
     ]
    }
   ],
   "source": [
    "# Create instances of Parrot and demonstrate functionality\n",
    "parrot = Parrot('green', 25)\n",
    "parrot.eat()\n",
    "parrot.fly()\n",
    "\n",
    "penguin = Penguin('black and white')\n",
    "penguin.eat()\n",
    "#penguin.fly()"
   ]
  },
  {
   "cell_type": "markdown",
   "metadata": {},
   "source": [
    "### Explanation\n",
    "- **Bird Class**: An abstract class with the common attribute `color` and abstract methods `eat`.\n",
    "- **FlyingBird Class**: Another abstract class that inherits from Bird and adds a `wing_span` attribute and an abstract `fly` method.\n",
    "- **Parrot Class**: A concrete implementation of the abstract classes, providing specific behavior for the `eat` and `fly` methods."
   ]
  },
  {
   "cell_type": "markdown",
   "metadata": {},
   "source": [
    "### Benefits of Using Abstract Classes\n",
    "- **Enforces a Contract**: Ensures that subclasses implement the required methods.\n",
    "- **Code Reusability**: Common code can be placed in the abstract class, and subclasses can inherit and extend this code.\n",
    "- **Extensibility**: New types of birds can be added by creating new subclasses."
   ]
  },
  {
   "cell_type": "markdown",
   "metadata": {},
   "source": [
    "### Summary\n",
    "In this tutorial, we covered the use of abstract classes by creating a system to manage birds in a shop. We:\n",
    "- Defined an abstract Bird class\n",
    "- Created an abstract FlyingBird class\n",
    "- Implemented a concrete Parrot class\n",
    "- Demonstrated the use of these classes with examples\n",
    "\n",
    "By understanding these concepts, you can create flexible and extensible systems using abstract classes in Python."
   ]
  }
 ],
 "metadata": {
  "kernelspec": {
   "display_name": "Python 3",
   "language": "python",
   "name": "python3"
  },
  "language_info": {
   "codemirror_mode": {
    "name": "ipython",
    "version": 3
   },
   "file_extension": ".py",
   "mimetype": "text/x-python",
   "name": "python",
   "nbconvert_exporter": "python",
   "pygments_lexer": "ipython3",
   "version": "3.10.6"
  }
 },
 "nbformat": 4,
 "nbformat_minor": 4
}
