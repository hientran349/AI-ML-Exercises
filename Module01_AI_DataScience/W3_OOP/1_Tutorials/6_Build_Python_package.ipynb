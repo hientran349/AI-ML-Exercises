{
 "cells": [
  {
   "cell_type": "markdown",
   "metadata": {},
   "source": [
    "# Building and Publishing a Python Package with Poetry"
   ]
  },
  {
   "cell_type": "markdown",
   "metadata": {},
   "source": [
    "## Introduction\n",
    "This tutorial guides you through the process of building a simple Python package using Poetry, and then publishing it on PyPI. By the end of this tutorial, you will be able to create a Python package, manage dependencies, and share your package with the Python community."
   ]
  },
  {
   "cell_type": "markdown",
   "metadata": {},
   "source": [
    "## Prerequisites\n",
    "To follow this tutorial, you need:\n",
    "- A computer with Python installed\n",
    "- Basic knowledge of creating and managing environments in Python"
   ]
  },
  {
   "cell_type": "markdown",
   "metadata": {},
   "source": [
    "## Step 1: Installing Poetry\n",
    "Poetry is a tool for dependency management and packaging in Python. It provides a simple way to build and publish Python packages.\n",
    "### Installing pipx\n",
    "Poetry can be installed using pipx. If you don't have pipx installed, you can install it using the following command:\n",
    "```bash\n",
    "py -m pip install --user pipx\n",
    "```\n",
    "### Installing Poetry\n",
    "Once pipx is installed, you can install Poetry with the following command:\n",
    "```bash\n",
    "pipx install poetry\n",
    "```\n",
    "### Verifying the Installation\n",
    "To verify that Poetry is installed correctly, run the following command:\n",
    "```bash\n",
    "poetry --version\n",
    "```\n",
    "You should see an output similar to `Poetry (version 1.8.2)`."
   ]
  },
  {
   "cell_type": "markdown",
   "metadata": {},
   "source": [
    "## Step 2: Setting Up a New Project\n",
    "To create a new project with Poetry, use the `poetry new` command. For example, to create a project named `aio2024`, run:\n",
    "```bash\n",
    "poetry new aio2024\n",
    "```\n",
    "This will create a directory structure like this:\n",
    "```\n",
    "aio2024\n",
    "|-- pyproject.toml\n",
    "|-- README.md\n",
    "|-- aio2024\n",
    "|   |-- __init__.py\n",
    "|-- tests\n",
    "    |-- __init__.py\n",
    "```\n",
    "### Project Structure\n",
    "- `aio2024`: Directory where you will write your package code.\n",
    "- `tests`: Directory for writing tests.\n",
    "- `pyproject.toml`: Configuration file for your package.\n",
    "- `README.md`: File for the package description and installation instructions."
   ]
  },
  {
   "cell_type": "markdown",
   "metadata": {},
   "source": [
    "## Step 3: Configuring `pyproject.toml`\n",
    "The `pyproject.toml` file contains important information about your package.\n",
    "```toml\n",
    "[tool.poetry]\n",
    "name = \"aio2024\"\n",
    "version = \"0.1.0\"\n",
    "description = \"\"\n",
    "authors = [\"NguyenDinhTiem <nguyendinhtiem1999@gmail.com>\"]\n",
    "readme = \"README.md\"\n",
    "packages = [{ include = \"aio2024\" }]\n",
    "\n",
    "[tool.poetry.dependencies]\n",
    "python = \"^3.12\"\n",
    "\n",
    "[build-system]\n",
    "requires = [\"poetry-core\"]\n",
    "build-backend = \"poetry.core.masonry.api\"\n",
    "```\n",
    "- `[tool.poetry]`: Section containing the package name, version, description, authors, and other metadata.\n",
    "- `[tool.poetry.dependencies]`: Section listing the Python version and other dependencies.\n",
    "- `[build-system]`: Section specifying the build system requirements."
   ]
  },
  {
   "cell_type": "markdown",
   "metadata": {},
   "source": [
    "## Step 4: Managing Dependencies\n",
    "Poetry makes it easy to manage dependencies.\n",
    "### Adding Dependencies\n",
    "To add a dependency to your project, use the `poetry add` command. For example, to add `requests`:\n",
    "```bash\n",
    "poetry add requests\n",
    "```\n",
    "### Installing Dependencies\n",
    "To install all dependencies listed in the `pyproject.toml` file, use:\n",
    "```bash\n",
    "poetry install\n",
    "```\n",
    "### Activating the Virtual Environment\n",
    "To activate the virtual environment created by Poetry, use:\n",
    "```bash\n",
    "poetry shell\n",
    "```\n",
    "This activates a virtual environment specific to your project."
   ]
  },
  {
   "cell_type": "markdown",
   "metadata": {},
   "source": [
    "## Step 5: Building the Package\n",
    "To build your package, use the `poetry build` command. This will create distribution files in the `dist` directory.\n",
    "```bash\n",
    "poetry build\n",
    "```\n",
    "You should see output indicating that the package was successfully built, creating files like `aio2024-0.1.0.tar.gz` and `aio2024-0.1.0-py3-none-any.whl`."
   ]
  },
  {
   "cell_type": "markdown",
   "metadata": {},
   "source": [
    "## Step 6: Publishing the Package\n",
    "To publish your package to PyPI, follow these steps:\n",
    "### Creating an API Token\n",
    "1. Log in to [PyPI](https://pypi.org/).\n",
    "2. Go to your account settings and create an API token.\n",
    "3. Save the token in a secure location.\n",
    "\n",
    "### Configuring Poetry with PyPI Credentials\n",
    "Configure Poetry to use your PyPI credentials:\n",
    "```bash\n",
    "poetry config pypi-token.pypi <your-token>\n",
    "```\n",
    "### Publishing the Package\n",
    "To publish your package, use the `poetry publish` command:\n",
    "```bash\n",
    "poetry publish --build\n",
    "```\n",
    "This command builds the package and uploads it to PyPI. Once the upload is complete, your package will be available for others to install using `pip install`."
   ]
  },
  {
   "cell_type": "markdown",
   "metadata": {},
   "source": [
    "## Example: Creating a Simple Package\n",
    "Let's create a simple package with two modules: `math.py` and `cat.py`."
   ]
  },
  {
   "cell_type": "markdown",
   "metadata": {},
   "source": [
    "### math.py\n",
    "This module will contain a `MyMath` class with a method to calculate the factorial of a number."
   ]
  },
  {
   "cell_type": "code",
   "execution_count": null,
   "metadata": {},
   "outputs": [],
   "source": [
    "# math.py\n",
    "class MyMath:\n",
    "    def __init__(self, value: int) -> None:\n",
    "        self.value = value\n",
    "    \n",
    "    def factorial(self) -> int:\n",
    "        if self.value == 0:\n",
    "            return 1\n",
    "        else:\n",
    "            return self.value * MyMath(self.value - 1).factorial()"
   ]
  },
  {
   "cell_type": "markdown",
   "metadata": {},
   "source": [
    "### cat.py\n",
    "This module will contain a `Cat` class with a method to describe the cat."
   ]
  },
  {
   "cell_type": "code",
   "execution_count": null,
   "metadata": {},
   "outputs": [],
   "source": [
    "# cat.py\n",
    "class Cat:\n",
    "    def __init__(self, name: str) -> None:\n",
    "        self.__name = name\n",
    "    \n",
    "    def describe(self) -> None:\n",
    "        print(self.__name)"
   ]
  },
  {
   "cell_type": "markdown",
   "metadata": {},
   "source": [
    "## Summary\n",
    "In this tutorial, we covered the following steps to build and publish a Python package using Poetry:\n",
    "- Installing Poetry\n",
    "- Setting up a new project\n",
    "- Configuring `pyproject.toml`\n",
    "- Managing dependencies\n",
    "- Building the package\n",
    "- Publishing the package to PyPI\n",
    "- Creating example modules\n",
    "\n",
    "By following these steps, you can create and share your own Python packages with the community."
   ]
  }
 ],
 "metadata": {
  "kernelspec": {
   "display_name": "Python 3",
   "language": "python",
   "name": "python3"
  },
  "language_info": {
   "name": "python",
   "version": "3.8.5"
  }
 },
 "nbformat": 4,
 "nbformat_minor": 4
}
