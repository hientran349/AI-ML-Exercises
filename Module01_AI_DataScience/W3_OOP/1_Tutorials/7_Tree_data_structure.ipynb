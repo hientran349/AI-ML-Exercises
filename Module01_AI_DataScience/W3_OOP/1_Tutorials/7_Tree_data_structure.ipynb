{
 "cells": [
  {
   "cell_type": "markdown",
   "metadata": {},
   "source": [
    "# Tree Data Structures in Python"
   ]
  },
  {
   "cell_type": "markdown",
   "metadata": {},
   "source": [
    "## Introduction\n",
    "This tutorial covers various tree data structures, including binary trees, binary search trees, and k-d trees. It also explains tree terminology, implementation, and applications."
   ]
  },
  {
   "cell_type": "markdown",
   "metadata": {},
   "source": [
    "## 1. What is a Tree?\n",
    "A tree is a non-linear data structure where nodes are organized in a hierarchical manner. Each node contains a value and references to child nodes."
   ]
  },
  {
   "cell_type": "markdown",
   "metadata": {},
   "source": [
    "### Basic Terminologies\n",
    "- **Root Node**: The topmost node of a tree.\n",
    "- **Parent Node**: A node that has one or more child nodes.\n",
    "- **Child Node**: A node that is a descendant of another node.\n",
    "- **Leaf Node**: A node that does not have any children.\n",
    "- **Ancestor of a Node**: Any node along the path from the root to that node.\n",
    "- **Sibling**: Nodes that share the same parent.\n",
    "- **Level of a Node**: The number of edges on the path from the root to the node.\n",
    "- **Subtree**: A node and all its descendants."
   ]
  },
  {
   "cell_type": "markdown",
   "metadata": {},
   "source": [
    "## 2. Tree Implementation\n",
    "Here we will implement a basic tree structure using Python."
   ]
  },
  {
   "cell_type": "code",
   "execution_count": null,
   "metadata": {},
   "outputs": [],
   "source": [
    "# Defining a Node class for the tree\n",
    "class Node:\n",
    "    def __init__(self, key):\n",
    "        self.left = None\n",
    "        self.right = None\n",
    "        self.val = key\n",
    "\n",
    "# Creating the root node\n",
    "root = Node(1)\n",
    "root.left = Node(2)\n",
    "root.right = Node(3)\n",
    "root.left.left = Node(4)\n",
    "root.left.right = Node(5)\n",
    "\n",
    "print(f'Root: {root.val}')\n",
    "print(f'Left child of root: {root.left.val}')\n",
    "print(f'Right child of root: {root.right.val}')\n",
    "print(f'Left child of left child of root: {root.left.left.val}')\n",
    "print(f'Right child of left child of root: {root.left.right.val}')"
   ]
  },
  {
   "cell_type": "markdown",
   "metadata": {},
   "source": [
    "## 3. Binary Tree\n",
    "A binary tree is a tree data structure in which each node has at most two children, referred to as the left child and the right child."
   ]
  },
  {
   "cell_type": "markdown",
   "metadata": {},
   "source": [
    "### Types of Binary Trees\n",
    "- **Full Binary Tree**: Every node has 0 or 2 children.\n",
    "- **Complete Binary Tree**: All levels are completely filled except possibly the last level, which is filled from left to right.\n",
    "- **Perfect Binary Tree**: All internal nodes have two children and all leaves are at the same level.\n",
    "- **Balanced Binary Tree**: The height of the left and right subtrees of any node differ by at most one."
   ]
  },
  {
   "cell_type": "markdown",
   "metadata": {},
   "source": [
    "### Example: Balanced vs Unbalanced Binary Tree"
   ]
  },
  {
   "cell_type": "code",
   "execution_count": null,
   "metadata": {},
   "outputs": [],
   "source": [
    "# Balanced binary tree example\n",
    "class BalancedNode:\n",
    "    def __init__(self, key):\n",
    "        self.left = None\n",
    "        self.right = None\n",
    "        self.val = key\n",
    "\n",
    "balanced_root = BalancedNode(1)\n",
    "balanced_root.left = BalancedNode(2)\n",
    "balanced_root.right = BalancedNode(3)\n",
    "balanced_root.left.left = BalancedNode(4)\n",
    "balanced_root.left.right = BalancedNode(5)\n",
    "\n",
    "# Unbalanced binary tree example\n",
    "class UnbalancedNode:\n",
    "    def __init__(self, key):\n",
    "        self.left = None\n",
    "        self.right = None\n",
    "        self.val = key\n",
    "\n",
    "unbalanced_root = UnbalancedNode(1)\n",
    "unbalanced_root.left = UnbalancedNode(2)\n",
    "unbalanced_root.left.left = UnbalancedNode(3)\n",
    "unbalanced_root.left.left.left = UnbalancedNode(4)\n",
    "\n",
    "print(f'Balanced Root: {balanced_root.val}')\n",
    "print(f'Unbalanced Root: {unbalanced_root.val}')"
   ]
  },
  {
   "cell_type": "markdown",
   "metadata": {},
   "source": [
    "## 4. Traversal of Binary Tree\n",
    "Traversal refers to the process of visiting each node in a tree data structure, exactly once, in a systematic way."
   ]
  },
  {
   "cell_type": "markdown",
   "metadata": {},
   "source": [
    "### Types of Traversal\n",
    "- **Depth First Search (DFS)**: Explores as far as possible along each branch before backtracking. Types include Inorder, Preorder, and Postorder.\n",
    "- **Breadth First Search (BFS)**: Explores all nodes at the present depth level before moving on to nodes at the next depth level."
   ]
  },
  {
   "cell_type": "markdown",
   "metadata": {},
   "source": [
    "### Depth First Search (DFS)"
   ]
  },
  {
   "cell_type": "code",
   "execution_count": null,
   "metadata": {},
   "outputs": [],
   "source": [
    "# Inorder traversal: Left -> Root -> Right\n",
    "def inorder(root):\n",
    "    return inorder(root.left) + [root.val] + inorder(root.right) if root else []\n",
    "\n",
    "# Preorder traversal: Root -> Left -> Right\n",
    "def preorder(root):\n",
    "    return [root.val] + preorder(root.left) + preorder(root.right) if root else []\n",
    "\n",
    "# Postorder traversal: Left -> Right -> Root\n",
    "def postorder(root):\n",
    "    return postorder(root.left) + postorder(root.right) + [root.val] if root else []\n",
    "\n",
    "print(f'Inorder Traversal: {inorder(balanced_root)}')\n",
    "print(f'Preorder Traversal: {preorder(balanced_root)}')\n",
    "print(f'Postorder Traversal: {postorder(balanced_root)}')"
   ]
  },
  {
   "cell_type": "markdown",
   "metadata": {},
   "source": [
    "### Breadth First Search (BFS)"
   ]
  },
  {
   "cell_type": "code",
   "execution_count": null,
   "metadata": {},
   "outputs": [],
   "source": [
    "# Level order traversal using BFS\n",
    "from collections import deque\n",
    "\n",
    "def bfs(root):\n",
    "    if not root:\n",
    "        return []\n",
    "    queue = deque([root])\n",
    "    result = []\n",
    "    while queue:\n",
    "        node = queue.popleft()\n",
    "        result.append(node.val)\n",
    "        if node.left:\n",
    "            queue.append(node.left)\n",
    "        if node.right:\n",
    "            queue.append(node.right)\n",
    "    return result\n",
    "\n",
    "print(f'BFS Traversal: {bfs(balanced_root)}')"
   ]
  },
  {
   "cell_type": "markdown",
   "metadata": {},
   "source": [
    "## 5. Binary Search Tree (BST)\n",
    "A binary search tree is a binary tree in which each node has a value greater than all the values in its left subtree and less than all the values in its right subtree."
   ]
  },
  {
   "cell_type": "markdown",
   "metadata": {},
   "source": [
    "### BST Operations\n",
    "- **Insertion**: Insert a new node with a specific value into the BST.\n",
    "- **Deletion**: Remove a node with a specific value from the BST.\n",
    "- **Search**: Find a node with a specific value in the BST."
   ]
  },
  {
   "cell_type": "markdown",
   "metadata": {},
   "source": [
    "#### Insertion in BST"
   ]
  },
  {
   "cell_type": "code",
   "execution_count": null,
   "metadata": {},
   "outputs": [],
   "source": [
    "# BST Node class\n",
    "class BSTNode:\n",
    "    def __init__(self, key):\n",
    "        self.left = None\n",
    "        self.right = None\n",
    "        self.val = key\n",
    "\n",
    "# Function to insert a new node with a given key\n",
    "def insert(root, key):\n",
    "    if root is None:\n",
    "        return BSTNode(key)\n",
    "    else:\n",
    "        if root.val < key:\n",
    "            root.right = insert(root.right, key)\n",
    "        else:\n",
    "            root.left = insert(root.left, key)\n",
    "    return root\n",
    "\n",
    "# Creating a BST and inserting nodes\n",
    "bst_root = BSTNode(50)\n",
    "bst_root = insert(bst_root, 30)\n",
    "bst_root = insert(bst_root, 20)\n",
    "bst_root = insert(bst_root, 40)\n",
    "bst_root = insert(bst_root, 70)\n",
    "bst_root = insert(bst_root, 60)\n",
    "bst_root = insert(bst_root, 80)\n",
    "\n",
    "print(f'BST Inorder Traversal: {inorder(bst_root)}')"
   ]
  },
  {
   "cell_type": "markdown",
   "metadata": {},
   "source": [
    "#### Deletion in BST"
   ]
  },
  {
   "cell_type": "code",
   "execution_count": null,
   "metadata": {},
   "outputs": [],
   "source": [
    "# Function to find the inorder successor\n",
    "def minValueNode(node):\n",
    "    current = node\n",
    "    while current.left is not None:\n",
    "        current = current.left\n",
    "    return current\n",
    "\n",
    "# Function to delete a node\n",
    "def deleteNode(root, key):\n",
    "    if root is None:\n",
    "        return root\n",
    "\n",
    "    if key < root.val:\n",
    "        root.left = deleteNode(root.left, key)\n",
    "    elif key > root.val:\n",
    "        root.right = deleteNode(root.right, key)\n",
    "    else:\n",
    "        if root.left is None:\n",
    "            return root.right\n",
    "        elif root.right is None:\n",
    "            return root.left\n",
    "\n",
    "        temp = minValueNode(root.right)\n",
    "        root.val = temp.val\n",
    "        root.right = deleteNode(root.right, temp.val)\n",
    "\n",
    "    return root\n",
    "\n",
    "# Deleting a node\n",
    "bst_root = deleteNode(bst_root, 20)\n",
    "print(f'BST Inorder Traversal after deleting 20: {inorder(bst_root)}')"
   ]
  },
  {
   "cell_type": "markdown",
   "metadata": {},
   "source": [
    "#### Search in BST"
   ]
  },
  {
   "cell_type": "code",
   "execution_count": null,
   "metadata": {},
   "outputs": [],
   "source": [
    "# Function to search for a node in BST\n",
    "def search(root, key):\n",
    "    if root is None or root.val == key:\n",
    "        return root\n",
    "    if root.val < key:\n",
    "        return search(root.right, key)\n",
    "    return search(root.left, key)\n",
    "\n",
    "# Searching for a node\n",
    "found_node = search(bst_root, 40)\n",
    "if found_node:\n",
    "    print(f'Node found: {found_node.val}')\n",
    "else:\n",
    "    print('Node not found')"
   ]
  },
  {
   "cell_type": "markdown",
   "metadata": {},
   "source": [
    "## 6. K-D Tree\n",
    "A k-d tree (k-dimensional tree) is a space-partitioning data structure for organizing points in a k-dimensional space."
   ]
  },
  {
   "cell_type": "markdown",
   "metadata": {},
   "source": [
    "### Building a K-D Tree"
   ]
  },
  {
   "cell_type": "code",
   "execution_count": null,
   "metadata": {},
   "outputs": [],
   "source": [
    "# K-D Tree Node class\n",
    "class KDNode:\n",
    "    def __init__(self, point, left=None, right=None):\n",
    "        self.point = point\n",
    "        self.left = left\n",
    "        self.right = right\n",
    "\n",
    "# Function to build a K-D Tree\n",
    "def build_kdtree(points, depth=0):\n",
    "    if not points:\n",
    "        return None\n",
    "\n",
    "    k = len(points[0])  # assumes all points have the same dimension\n",
    "    axis = depth % k\n",
    "\n",
    "    points.sort(key=lambda x: x[axis])\n",
    "    median = len(points) // 2\n",
    "\n",
    "    return KDNode(\n",
    "        point=points[median],\n",
    "        left=build_kdtree(points[:median], depth + 1),\n",
    "        right=build_kdtree(points[median + 1:], depth + 1)\n",
    "    )\n",
    "\n",
    "# Points in 2-D space\n",
    "points = [(2, 3), (5, 4), (9, 6), (4, 7), (8, 1), (7, 2)]\n",
    "kdtree = build_kdtree(points)\n",
    "print(f'K-D Tree Root: {kdtree.point}')"
   ]
  },
  {
   "cell_type": "markdown",
   "metadata": {},
   "source": [
    "### Searching in K-D Tree"
   ]
  },
  {
   "cell_type": "code",
   "execution_count": null,
   "metadata": {},
   "outputs": [],
   "source": [
    "# Function to search for the nearest neighbor in K-D Tree\n",
    "def kd_search(root, point, depth=0, best=None):\n",
    "    if root is None:\n",
    "        return best\n",
    "\n",
    "    k = len(point)\n",
    "    axis = depth % k\n",
    "\n",
    "    next_best = None\n",
    "    next_branch = None\n",
    "\n",
    "    if best is None or (sum((a - b) ** 2 for a, b in zip(point, root.point)) < sum((a - b) ** 2 for a, b in zip(point, best.point))):\n",
    "        next_best = root\n",
    "    else:\n",
    "        next_best = best\n",
    "\n",
    "    if point[axis] < root.point[axis]:\n",
    "        next_branch = root.left\n",
    "    else:\n",
    "        next_branch = root.right\n",
    "\n",
    "    return kd_search(next_branch, point, depth + 1, next_best)\n",
    "\n",
    "# Searching for the nearest neighbor\n",
    "search_point = (9, 2)\n",
    "nearest = kd_search(kdtree, search_point)\n",
    "print(f'Nearest neighbor to {search_point}: {nearest.point}')"
   ]
  },
  {
   "cell_type": "markdown",
   "metadata": {},
   "source": [
    "## Summary\n",
    "This tutorial covered the following key concepts:\n",
    "- Tree Terminologies\n",
    "- Binary Tree and its Types\n",
    "- Traversal Methods (DFS and BFS)\n",
    "- Binary Search Tree (BST) and its Operations\n",
    "- K-D Tree and its Applications\n",
    "\n",
    "By understanding these concepts, you can effectively use tree data structures in various applications such as searching, sorting, and organizing hierarchical data."
   ]
  }
 ],
 "metadata": {
  "kernelspec": {
   "display_name": "Python 3",
   "language": "python",
   "name": "python3"
  },
  "language_info": {
   "name": "python",
   "version": "3.8.5"
  }
 },
 "nbformat": 4,
 "nbformat_minor": 4
}
