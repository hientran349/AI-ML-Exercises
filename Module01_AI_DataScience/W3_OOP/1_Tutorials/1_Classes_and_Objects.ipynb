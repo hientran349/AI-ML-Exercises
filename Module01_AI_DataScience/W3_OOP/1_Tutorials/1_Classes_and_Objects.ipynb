{
 "cells": [
  {
   "cell_type": "markdown",
   "metadata": {},
   "source": [
    "## Classes and Objects in Python"
   ]
  },
  {
   "cell_type": "markdown",
   "metadata": {},
   "source": [
    "### Introduction\n",
    "This tutorial covers the basics and advanced concepts of classes and objects in Python, including class definition, attributes, methods, constructors, the `self` keyword, special methods, naming conventions, and inheritance."
   ]
  },
  {
   "cell_type": "markdown",
   "metadata": {},
   "source": [
    "### Class Diagram\n",
    "A class diagram is a visual representation of a class, including its attributes and methods."
   ]
  },
  {
   "cell_type": "markdown",
   "metadata": {},
   "source": [
    "```\n",
    "Class name\n",
    "-------------\n",
    "Attributes\n",
    "-------------\n",
    "Methods\n",
    "```\n",
    "Example:\n",
    "```\n",
    "Rectangle\n",
    "-------------\n",
    "+ width\n",
    "+ height\n",
    "-------------\n",
    "+ calculate_area()\n",
    "+ calculate_perimeter()\n",
    "```"
   ]
  },
  {
   "cell_type": "markdown",
   "metadata": {},
   "source": [
    "### Syntax for Creating a Class and Objects\n",
    "A class is a template for creating objects. An object is an instance of a class."
   ]
  },
  {
   "cell_type": "code",
   "execution_count": 1,
   "metadata": {},
   "outputs": [
    {
     "name": "stdout",
     "output_type": "stream",
     "text": [
      "Rectangle 1 area: 50\n",
      "Rectangle 1 perimeter: 30\n",
      "Rectangle 2 area: 18\n",
      "Rectangle 2 perimeter: 18\n"
     ]
    },
    {
     "ename": "",
     "evalue": "",
     "output_type": "error",
     "traceback": [
      "\u001b[1;31mThe Kernel crashed while executing code in the current cell or a previous cell. \n",
      "\u001b[1;31mPlease review the code in the cell(s) to identify a possible cause of the failure. \n",
      "\u001b[1;31mClick <a href='https://aka.ms/vscodeJupyterKernelCrash'>here</a> for more info. \n",
      "\u001b[1;31mView Jupyter <a href='command:jupyter.viewOutput'>log</a> for further details."
     ]
    }
   ],
   "source": [
    "# Defining a class\n",
    "class Rectangle:\n",
    "    def __init__(self, width, height):\n",
    "        self.width = width\n",
    "        self.height = height\n",
    "    \n",
    "    def calculate_area(self):\n",
    "        return self.width * self.height\n",
    "    \n",
    "    def calculate_perimeter(self):\n",
    "        return 2 * (self.width + self.height)\n",
    "\n",
    "# Creating objects\n",
    "rect1 = Rectangle(5, 10)\n",
    "rect2 = Rectangle(3, 6)\n",
    "\n",
    "print(f'Rectangle 1 area: {rect1.calculate_area()}')\n",
    "print(f'Rectangle 1 perimeter: {rect1.calculate_perimeter()}')\n",
    "print(f'Rectangle 2 area: {rect2.calculate_area()}')\n",
    "print(f'Rectangle 2 perimeter: {rect2.calculate_perimeter()}')"
   ]
  },
  {
   "cell_type": "markdown",
   "metadata": {},
   "source": [
    "### Constructor `__init__` Method\n",
    "The `__init__` method is called automatically every time the class is used to create a new object. It initializes the attributes of the object with specific values."
   ]
  },
  {
   "cell_type": "code",
   "execution_count": null,
   "metadata": {},
   "outputs": [],
   "source": [
    "# Example of a constructor\n",
    "class Person:\n",
    "    def __init__(self, name, age):\n",
    "        self.name = name\n",
    "        self.age = age\n",
    "    \n",
    "    def greet(self):\n",
    "        return f'Hello, my name is {self.name} and I am {self.age} years old.'\n",
    "\n",
    "person = Person('Alice', 30)\n",
    "print(person.greet())  # Output: Hello, my name is Alice and I am 30 years old."
   ]
  },
  {
   "cell_type": "markdown",
   "metadata": {},
   "source": [
    "### The `self` Keyword\n",
    "The `self` keyword is used to represent the instance of the class. It binds the attributes with the given arguments."
   ]
  },
  {
   "cell_type": "code",
   "execution_count": null,
   "metadata": {},
   "outputs": [],
   "source": [
    "# Example using self keyword\n",
    "class Dog:\n",
    "    def __init__(self, name):\n",
    "        self.name = name\n",
    "    \n",
    "    def bark(self):\n",
    "        return f'{self.name} says woof!'\n",
    "\n",
    "dog = Dog('Buddy')\n",
    "print(dog.bark())  # Output: Buddy says woof!"
   ]
  },
  {
   "cell_type": "markdown",
   "metadata": {},
   "source": [
    "### Special Method `__call__`\n",
    "The `__call__` method allows an instance of a class to be called as a function."
   ]
  },
  {
   "cell_type": "code",
   "execution_count": null,
   "metadata": {},
   "outputs": [],
   "source": [
    "# Example of __call__ method\n",
    "class Multiplier:\n",
    "    def __init__(self, factor):\n",
    "        self.factor = factor\n",
    "    \n",
    "    def __call__(self, value):\n",
    "        return value * self.factor\n",
    "\n",
    "multiply_by_3 = Multiplier(3)\n",
    "print(multiply_by_3(10))  # Output: 30"
   ]
  },
  {
   "cell_type": "markdown",
   "metadata": {},
   "source": [
    "### Naming Conventions\n",
    "- **Class Names**: Use camel case (e.g., `MyClass`).\n",
    "- **Attributes and Methods**: Use lowercase words separated by underscores (e.g., `my_attribute`, `my_method`)."
   ]
  },
  {
   "cell_type": "markdown",
   "metadata": {},
   "source": [
    "### Inheritance\n",
    "Inheritance allows a new class to inherit the attributes and methods of an existing class."
   ]
  },
  {
   "cell_type": "markdown",
   "metadata": {},
   "source": [
    "#### Definition and Syntax\n",
    "Inheritance is defined by using the parent class name in parentheses after the child class name."
   ]
  },
  {
   "cell_type": "code",
   "execution_count": null,
   "metadata": {},
   "outputs": [],
   "source": [
    "# Example of inheritance\n",
    "class Animal:\n",
    "    def __init__(self, name):\n",
    "        self.name = name\n",
    "    \n",
    "    def make_sound(self):\n",
    "        raise NotImplementedError('Subclasses must implement this method')\n",
    "\n",
    "class Cat(Animal):\n",
    "    def make_sound(self):\n",
    "        return f'{self.name} says meow!'\n",
    "\n",
    "cat = Cat('Whiskers')\n",
    "print(cat.make_sound())  # Output: Whiskers says meow!"
   ]
  },
  {
   "cell_type": "markdown",
   "metadata": {},
   "source": [
    "#### Access Modifiers\n",
    "- **Public**: Accessible anywhere (e.g., `self.attribute`).\n",
    "- **Protected**: Accessible within the class and its subclasses (e.g., `self._attribute`).\n",
    "- **Private**: Accessible only within the class (e.g., `self.__attribute`)."
   ]
  },
  {
   "cell_type": "code",
   "execution_count": null,
   "metadata": {},
   "outputs": [],
   "source": [
    "# Access modifiers example\n",
    "class Base:\n",
    "    def __init__(self):\n",
    "        self.public = 'Public'\n",
    "        self._protected = 'Protected'\n",
    "        self.__private = 'Private'\n",
    "    \n",
    "    def get_private(self):\n",
    "        return self.__private\n",
    "\n",
    "class Derived(Base):\n",
    "    def __init__(self):\n",
    "        super().__init__()\n",
    "        print('Public:', self.public)\n",
    "        print('Protected:', self._protected)\n",
    "        # print('Private:', self.__private)  # This will raise an AttributeError\n",
    "        print('Private:', self.get_private())\n",
    "\n",
    "derived = Derived()"
   ]
  },
  {
   "cell_type": "markdown",
   "metadata": {},
   "source": [
    "### Override and Extend Methods\n",
    "Method overriding allows a subclass to provide a specific implementation of a method that is already defined in its superclass."
   ]
  },
  {
   "cell_type": "code",
   "execution_count": null,
   "metadata": {},
   "outputs": [],
   "source": [
    "# Method overriding example\n",
    "class Parent:\n",
    "    def show(self):\n",
    "        print('Parent method')\n",
    "\n",
    "class Child(Parent):\n",
    "    def show(self):\n",
    "        print('Child method')\n",
    "\n",
    "child = Child()\n",
    "child.show()  # Output: Child method"
   ]
  },
  {
   "cell_type": "markdown",
   "metadata": {},
   "source": [
    "### Types of Inheritance\n",
    "- **Single Inheritance**: A class inherits from one superclass.\n",
    "- **Multiple Inheritance**: A class inherits from more than one superclass.\n",
    "- **Multilevel Inheritance**: A class inherits from a class which is also a derived class.\n",
    "- **Hierarchical Inheritance**: Multiple classes inherit from one superclass."
   ]
  },
  {
   "cell_type": "code",
   "execution_count": null,
   "metadata": {},
   "outputs": [],
   "source": [
    "# Single inheritance example\n",
    "class Parent:\n",
    "    def __init__(self, name):\n",
    "        self.name = name\n",
    "    \n",
    "    def show(self):\n",
    "        print(f'Parent name: {self.name}')\n",
    "\n",
    "class Child(Parent):\n",
    "    def __init__(self, name, age):\n",
    "        super().__init__(name)\n",
    "        self.age = age\n",
    "    \n",
    "    def display(self):\n",
    "        print(f'Child name: {self.name}, Age: {self.age}')\n",
    "\n",
    "child = Child('John', 20)\n",
    "child.show()      # Output: Parent name: John\n",
    "child.display()  # Output: Child name: John, Age: 20"
   ]
  },
  {
   "cell_type": "code",
   "execution_count": null,
   "metadata": {},
   "outputs": [],
   "source": [
    "# Multiple inheritance example\n",
    "class Base1:\n",
    "    def __init__(self):\n",
    "        self.str1 = 'Base1'\n",
    "    \n",
    "class Base2:\n",
    "    def __init__(self):\n",
    "        self.str2 = 'Base2'\n",
    "    \n",
    "class Derived(Base1, Base2):\n",
    "    def __init__(self):\n",
    "        Base1.__init__(self)\n",
    "        Base2.__init__(self)\n",
    "    \n",
    "    def display(self):\n",
    "        print(f'Str1: {self.str1}, Str2: {self.str2}')\n",
    "\n",
    "derived = Derived()\n",
    "derived.display()  # Output: Str1: Base1, Str2: Base2"
   ]
  },
  {
   "cell_type": "code",
   "execution_count": null,
   "metadata": {},
   "outputs": [],
   "source": [
    "# Multilevel inheritance example\n",
    "class GrandParent:\n",
    "    def __init__(self, grandparent_name):\n",
    "        self.grandparent_name = grandparent_name\n",
    "    \n",
    "    def display_grandparent(self):\n",
    "        print(f'Grandparent name: {self.grandparent_name}')\n",
    "\n",
    "class Parent(GrandParent):\n",
    "    def __init__(self, grandparent_name, parent_name):\n",
    "        super().__init__(grandparent_name)\n",
    "        self.parent_name = parent_name\n",
    "    \n",
    "    def display_parent(self):\n",
    "        print(f'Parent name: {self.parent_name}')\n",
    "\n",
    "class Child(Parent):\n",
    "    def __init__(self, grandparent_name, parent_name, child_name):\n",
    "        super().__init__(grandparent_name, parent_name)\n",
    "        self.child_name = child_name\n",
    "    \n",
    "    def display_child(self):\n",
    "        print(f'Child name: {self.child_name}')\n",
    "\n",
    "child = Child('Grandpa', 'Dad', 'Son')\n",
    "child.display_grandparent()  # Output: Grandparent name: Grandpa\n",
    "child.display_parent()       # Output: Parent name: Dad\n",
    "child.display_child()        # Output: Child name: Son"
   ]
  },
  {
   "cell_type": "code",
   "execution_count": null,
   "metadata": {},
   "outputs": [],
   "source": [
    "# Hierarchical inheritance example\n",
    "class Parent:\n",
    "    def __init__(self, name):\n",
    "        self.name = name\n",
    "    \n",
    "    def display(self):\n",
    "        print(f'Parent name: {self.name}')\n",
    "\n",
    "class Child1(Parent):\n",
    "    def __init__(self, name, age):\n",
    "        super().__init__(name)\n",
    "        self.age = age\n",
    "    \n",
    "    def display_child1(self):\n",
    "        print(f'Child1 name: {self.name}, Age: {self.age}')\n",
    "\n",
    "class Child2(Parent):\n",
    "    def __init__(self, name, grade):\n",
    "        super().__init__(name)\n",
    "        self.grade = grade\n",
    "    \n",
    "    def display_child2(self):\n",
    "        print(f'Child2 name: {self.name}, Grade: {self.grade}')\n",
    "\n",
    "child1 = Child1('John', 20)\n",
    "child2 = Child2('Jane', 'A')\n",
    "child1.display()          # Output: Parent name: John\n",
    "child1.display_child1()   # Output: Child1 name: John, Age: 20\n",
    "child2.display()          # Output: Parent name: Jane\n",
    "child2.display_child2()   # Output: Child2 name: Jane, Grade: A"
   ]
  },
  {
   "cell_type": "markdown",
   "metadata": {},
   "source": [
    "### Examples of Implementing Classes"
   ]
  },
  {
   "cell_type": "code",
   "execution_count": null,
   "metadata": {},
   "outputs": [],
   "source": [
    "# Example of implementing Math classes\n",
    "class Math1:\n",
    "    def is_even(self, num):\n",
    "        return num % 2 == 0\n",
    "    \n",
    "    def factorial(self, num):\n",
    "        if num == 0:\n",
    "            return 1\n",
    "        else:\n",
    "            return num * self.factorial(num - 1)\n",
    "\n",
    "class Math2(Math1):\n",
    "    def estimate_euler(self, n_terms):\n",
    "        euler = sum(1 / self.factorial(i) for i in range(n_terms))\n",
    "        return euler\n",
    "\n",
    "math1 = Math1()\n",
    "print(math1.is_even(4))  # Output: True\n",
    "print(math1.factorial(5))  # Output: 120\n",
    "\n",
    "math2 = Math2()\n",
    "print(math2.estimate_euler(10))  # Output: 2.7182818011463845"
   ]
  },
  {
   "cell_type": "markdown",
   "metadata": {},
   "source": [
    "### Summary\n",
    "This tutorial covered the following key concepts in classes and objects in Python:\n",
    "- Class diagram\n",
    "- Syntax for creating a class and objects\n",
    "- Constructor `__init__`\n",
    "- `self` keyword\n",
    "- Special method `__call__`\n",
    "- Naming conventions\n",
    "- Inheritance\n",
    "- Access modifiers\n",
    "- Method overriding\n",
    "- Types of inheritance"
   ]
  }
 ],
 "metadata": {
  "kernelspec": {
   "display_name": "Python 3",
   "language": "python",
   "name": "python3"
  },
  "language_info": {
   "codemirror_mode": {
    "name": "ipython",
    "version": 3
   },
   "file_extension": ".py",
   "mimetype": "text/x-python",
   "name": "python",
   "nbconvert_exporter": "python",
   "pygments_lexer": "ipython3",
   "version": "3.10.6"
  }
 },
 "nbformat": 4,
 "nbformat_minor": 4
}
