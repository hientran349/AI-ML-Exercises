{
 "cells": [
  {
   "cell_type": "markdown",
   "metadata": {},
   "source": [
    "### Python Pass by Assignment: \n",
    "\n",
    "#### Mutable Objects\n",
    "If the argument is a mutable object (like lists or dictionaries), a copy of the reference is passed. This reference points to the original object in memory. Changes made within the function will affect the original object because both the function and the caller reference the same object.\n",
    "\n",
    "\n",
    "#### Immutable Objects\n",
    "If the argument is an immutable object (like integers or strings), a copy of the immutable object's value is created and passed to the function. Changes within the function won't affect the original object because they are different objects.\n",
    "\n",
    "*Be noted that integers (int) are actually immutable objects. When you try to modify an integer variable, Python creates a new integer object with the updated value in memory*"
   ]
  },
  {
   "cell_type": "code",
   "execution_count": 2,
   "metadata": {},
   "outputs": [
    {
     "name": "stdout",
     "output_type": "stream",
     "text": [
      "[1, 2, 3, 5]\n",
      "Original String\n"
     ]
    }
   ],
   "source": [
    "def modify_list(my_list):\n",
    "  my_list.append(5)\n",
    "\n",
    "# Create a list\n",
    "my_list = [1, 2, 3]\n",
    "\n",
    "# Pass the list to the function\n",
    "modify_list(my_list)\n",
    "\n",
    "# Print the modified list (original list is also changed)\n",
    "print(my_list)  # Output: [1, 2, 3, 5]\n",
    "\n",
    "\n",
    "\n",
    "def modify_string(my_string):\n",
    "  my_string = \"Modified String\"  # This modifies the local copy\n",
    "\n",
    "# Create a string\n",
    "my_string = \"Original String\"\n",
    "\n",
    "# Pass the string to the function\n",
    "modify_string(my_string)\n",
    "\n",
    "# Print the original string (unchanged)\n",
    "print(my_string)  # Output: Original String"
   ]
  }
 ],
 "metadata": {
  "kernelspec": {
   "display_name": "Python 3",
   "language": "python",
   "name": "python3"
  },
  "language_info": {
   "codemirror_mode": {
    "name": "ipython",
    "version": 3
   },
   "file_extension": ".py",
   "mimetype": "text/x-python",
   "name": "python",
   "nbconvert_exporter": "python",
   "pygments_lexer": "ipython3",
   "version": "3.10.6"
  }
 },
 "nbformat": 4,
 "nbformat_minor": 2
}
