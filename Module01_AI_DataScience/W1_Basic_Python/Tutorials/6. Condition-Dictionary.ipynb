{
 "cells": [
  {
   "cell_type": "code",
   "execution_count": 6,
   "id": "54763dda-8c3e-4089-9e55-45f8854ed6ce",
   "metadata": {},
   "outputs": [
    {
     "name": "stdout",
     "output_type": "stream",
     "text": [
      "SGD\n"
     ]
    }
   ],
   "source": [
    "def get_y(a):\n",
    "    if a == 1:\n",
    "        y = 5\n",
    "    elif a == 'learning_rate':\n",
    "        y = 0.1\n",
    "    elif a == 'optimizer':\n",
    "        y = 'SGD'\n",
    "\n",
    "    return y\n",
    "\n",
    "y = get_y('optimizer')\n",
    "print(y)"
   ]
  },
  {
   "cell_type": "code",
   "execution_count": 13,
   "id": "bcceba95-47b6-49f3-b056-449d55723c6d",
   "metadata": {},
   "outputs": [
    {
     "name": "stdout",
     "output_type": "stream",
     "text": [
      "5\n",
      "SGD\n"
     ]
    }
   ],
   "source": [
    "options = {1: 5, 'learning_rate': 0.1, 'optimizer': 'SGD'}\n",
    "\n",
    "print(options[1])\n",
    "print(options['optimizer'])"
   ]
  }
 ],
 "metadata": {
  "kernelspec": {
   "display_name": "Python 3 (ipykernel)",
   "language": "python",
   "name": "python3"
  },
  "language_info": {
   "codemirror_mode": {
    "name": "ipython",
    "version": 3
   },
   "file_extension": ".py",
   "mimetype": "text/x-python",
   "name": "python",
   "nbconvert_exporter": "python",
   "pygments_lexer": "ipython3",
   "version": "3.9.18"
  }
 },
 "nbformat": 4,
 "nbformat_minor": 5
}
