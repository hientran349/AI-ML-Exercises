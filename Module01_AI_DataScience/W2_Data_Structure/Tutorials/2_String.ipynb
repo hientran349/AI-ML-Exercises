{
 "cells": [
  {
   "cell_type": "markdown",
   "metadata": {},
   "source": [
    "## Tutorial on Strings in Python"
   ]
  },
  {
   "cell_type": "markdown",
   "metadata": {},
   "source": [
    "### Introduction to Strings\n",
    "A string in Python is a sequence of characters. Strings are immutable, meaning they cannot be changed after they are created. They are used to handle textual data in Python."
   ]
  },
  {
   "cell_type": "markdown",
   "metadata": {},
   "source": [
    "### Creating Strings"
   ]
  },
  {
   "cell_type": "markdown",
   "metadata": {},
   "source": [
    "**Syntax**:\n",
    "- Strings can be created by enclosing characters in single quotes `'`, double quotes `\"`, triple single quotes `'''`, or triple double quotes `\"\"\"`.\n",
    "- Triple quotes are generally used for multiline strings."
   ]
  },
  {
   "cell_type": "code",
   "execution_count": null,
   "metadata": {},
   "outputs": [],
   "source": [
    "# Single and double quotes\n",
    "string1 = 'Hello, World!'\n",
    "string2 = \"Hello, World!\"\n",
    "\n",
    "# Triple quotes\n",
    "string3 = '''Hello,\n",
    "World!'''\n",
    "\n",
    "string4 = \"\"\"Hello,\n",
    "World!\"\"\"\n",
    "\n",
    "print(string1)\n",
    "print(string2)\n",
    "print(string3)\n",
    "print(string4)"
   ]
  },
  {
   "cell_type": "markdown",
   "metadata": {},
   "source": [
    "### Mutable vs Immutable\n",
    "\n",
    "Immutable objects with same content can be stored at the same places (due to object interning in Python: memory usage optimization for immutatble objects)\n"
   ]
  },
  {
   "cell_type": "code",
   "execution_count": 6,
   "metadata": {},
   "outputs": [
    {
     "name": "stdout",
     "output_type": "stream",
     "text": [
      "Memory addr of list 1:  2685659225024\n",
      "Memory addr of list 2:  2685658967744\n",
      "Memory addr of str1:  2685659019120\n",
      "Memory addr of str2:  2685659019120\n"
     ]
    },
    {
     "ename": "",
     "evalue": "",
     "output_type": "error",
     "traceback": [
      "\u001b[1;31mThe Kernel crashed while executing code in the current cell or a previous cell. \n",
      "\u001b[1;31mPlease review the code in the cell(s) to identify a possible cause of the failure. \n",
      "\u001b[1;31mClick <a href='https://aka.ms/vscodeJupyterKernelCrash'>here</a> for more info. \n",
      "\u001b[1;31mView Jupyter <a href='command:jupyter.viewOutput'>log</a> for further details."
     ]
    }
   ],
   "source": [
    "list1 = [1, 2, 3, 4]\n",
    "list2 = [1, 2, 3, 4]\n",
    "print(\"Memory addr of list 1: \", id(list1))\n",
    "print(\"Memory addr of list 2: \", id(list2))\n",
    "#str1 and str2 will have different address (mutable objects)\n",
    "\n",
    "str1 = \"Hello\"\n",
    "str2 = \"Hello\"\n",
    "print(\"Memory addr of str1: \", id(str1))\n",
    "print(\"Memory addr of str2: \", id(str2))\n",
    "#str1 and str2 will have same address because they have same content (memory usage optimization for immutatble objects)\n"
   ]
  },
  {
   "cell_type": "markdown",
   "metadata": {},
   "source": [
    "### Accessing Characters in a String"
   ]
  },
  {
   "cell_type": "markdown",
   "metadata": {},
   "source": [
    "**Syntax**:\n",
    "- Characters in a string can be accessed using indexing.\n",
    "- Positive indexing starts from 0.\n",
    "- Negative indexing starts from -1."
   ]
  },
  {
   "cell_type": "code",
   "execution_count": null,
   "metadata": {},
   "outputs": [],
   "source": [
    "# Example String\n",
    "string = \"Python\"\n",
    "\n",
    "# Positive indexing\n",
    "print(string[0])  # Output: 'P'\n",
    "print(string[2])  # Output: 't'\n",
    "\n",
    "# Negative indexing\n",
    "print(string[-1])  # Output: 'n'\n",
    "print(string[-3])  # Output: 'h'"
   ]
  },
  {
   "cell_type": "markdown",
   "metadata": {},
   "source": [
    "### Slicing Strings"
   ]
  },
  {
   "cell_type": "markdown",
   "metadata": {},
   "source": [
    "**Syntax**:\n",
    "- Slicing allows you to get a substring from a string.\n",
    "- The syntax is `string[start:stop:step]`.\n",
    "- `start` is the starting index, `stop` is the stopping index (exclusive), and `step` is the step value."
   ]
  },
  {
   "cell_type": "code",
   "execution_count": null,
   "metadata": {},
   "outputs": [],
   "source": [
    "# Example String\n",
    "string = \"Python Programming\"\n",
    "\n",
    "# Slicing\n",
    "print(string[0:6])   # Output: 'Python'\n",
    "print(string[7:18])  # Output: 'Programming'\n",
    "print(string[::2])   # Output: 'Pto rgamn'\n",
    "print(string[::-1])  # Output: 'gnimmargorP nohtyP'"
   ]
  },
  {
   "cell_type": "markdown",
   "metadata": {},
   "source": [
    "### Modifying Strings"
   ]
  },
  {
   "cell_type": "markdown",
   "metadata": {},
   "source": [
    "Strings are immutable, so they cannot be changed directly. However, you can create new strings based on existing ones."
   ]
  },
  {
   "cell_type": "markdown",
   "metadata": {},
   "source": [
    "Method 1: Using Slicing to modify a character for the new string\n",
    "This is a straightforward and commonly used method to replace a character at a specific index."
   ]
  },
  {
   "cell_type": "code",
   "execution_count": 1,
   "metadata": {},
   "outputs": [
    {
     "name": "stdout",
     "output_type": "stream",
     "text": [
      "hallo\n"
     ]
    }
   ],
   "source": [
    "original_string = \"hello\"\n",
    "index_to_modify = 1\n",
    "new_char = 'a'\n",
    "\n",
    "# Create a new string with the character replaced using slicing\n",
    "modified_string = original_string[:index_to_modify] + new_char + original_string[index_to_modify + 1:]\n",
    "print(modified_string)  # Output: \"hallo\""
   ]
  },
  {
   "cell_type": "markdown",
   "metadata": {},
   "source": [
    "Method 2: Using String Formatting\n",
    "String formatting can be a simple way to achieve the same result."
   ]
  },
  {
   "cell_type": "code",
   "execution_count": null,
   "metadata": {},
   "outputs": [],
   "source": [
    "original_string = \"hello\"\n",
    "index_to_modify = 1\n",
    "new_char = 'a'\n",
    "\n",
    "# Create a new string using string formatting\n",
    "modified_string = f\"{original_string[:index_to_modify]}{new_char}{original_string[index_to_modify + 1:]}\"\n",
    "print(modified_string)  # Output: \"hallo\""
   ]
  },
  {
   "cell_type": "markdown",
   "metadata": {},
   "source": [
    "**Concatenation**:\n",
    "- You can concatenate strings using the `+` operator."
   ]
  },
  {
   "cell_type": "code",
   "execution_count": null,
   "metadata": {},
   "outputs": [],
   "source": [
    "# Concatenation\n",
    "greeting = \"Hello, \"\n",
    "name = \"Alice\"\n",
    "message = greeting + name\n",
    "print(message)  # Output: 'Hello, Alice'"
   ]
  },
  {
   "cell_type": "markdown",
   "metadata": {},
   "source": [
    "**Repetition**:\n",
    "- You can repeat strings using the `*` operator."
   ]
  },
  {
   "cell_type": "code",
   "execution_count": null,
   "metadata": {},
   "outputs": [],
   "source": [
    "# Repetition\n",
    "word = \"Python\"\n",
    "print(word * 3)  # Output: 'PythonPythonPython'"
   ]
  },
  {
   "cell_type": "markdown",
   "metadata": {},
   "source": [
    "**Replacing**:\n",
    "- You can create a new string by replacing parts of an existing string using the `replace()` method."
   ]
  },
  {
   "cell_type": "code",
   "execution_count": null,
   "metadata": {},
   "outputs": [],
   "source": [
    "# Replacing\n",
    "text = \"Hello, Bob\"\n",
    "new_text = text.replace(\"Bob\", \"Alice\")\n",
    "print(new_text)  # Output: 'Hello, Alice'"
   ]
  },
  {
   "cell_type": "markdown",
   "metadata": {},
   "source": [
    "### String Methods"
   ]
  },
  {
   "cell_type": "markdown",
   "metadata": {},
   "source": [
    "Python provides many built-in methods for string manipulation."
   ]
  },
  {
   "cell_type": "markdown",
   "metadata": {},
   "source": [
    "**`upper()` and `lower()`**:\n",
    "- Convert strings to uppercase or lowercase."
   ]
  },
  {
   "cell_type": "code",
   "execution_count": null,
   "metadata": {},
   "outputs": [],
   "source": [
    "# upper() and lower()\n",
    "text = \"Hello, World!\"\n",
    "print(text.upper())  # Output: 'HELLO, WORLD!'\n",
    "print(text.lower())  # Output: 'hello, world!'"
   ]
  },
  {
   "cell_type": "markdown",
   "metadata": {},
   "source": [
    "**`strip()`**:\n",
    "- Remove leading and trailing whitespace or characters."
   ]
  },
  {
   "cell_type": "code",
   "execution_count": null,
   "metadata": {},
   "outputs": [],
   "source": [
    "# strip()\n",
    "text = \"   Hello, World!   \"\n",
    "print(text.strip())  # Output: 'Hello, World!'"
   ]
  },
  {
   "cell_type": "markdown",
   "metadata": {},
   "source": [
    "**`split()` and `join()`**:\n",
    "- `split()` splits a string into a list of substrings based on a delimiter.\n",
    "- `join()` joins a list of strings into a single string with a specified delimiter."
   ]
  },
  {
   "cell_type": "code",
   "execution_count": null,
   "metadata": {},
   "outputs": [],
   "source": [
    "# split() and join()\n",
    "text = \"Hello, World!\"\n",
    "words = text.split(\" \")\n",
    "print(words)  # Output: ['Hello,', 'World!']\n",
    "\n",
    "sentence = \" \".join(words)\n",
    "print(sentence)  # Output: 'Hello, World!'"
   ]
  },
  {
   "cell_type": "markdown",
   "metadata": {},
   "source": [
    "### String Formatting"
   ]
  },
  {
   "cell_type": "markdown",
   "metadata": {},
   "source": [
    "Python provides several ways to format strings."
   ]
  },
  {
   "cell_type": "markdown",
   "metadata": {},
   "source": [
    "**`%` Operator**:\n",
    "- This is the old way of formatting strings using the `%` operator."
   ]
  },
  {
   "cell_type": "code",
   "execution_count": null,
   "metadata": {},
   "outputs": [],
   "source": [
    "# % Operator\n",
    "name = \"Alice\"\n",
    "age = 25\n",
    "print(\"%s is %d years old.\" % (name, age))  # Output: 'Alice is 25 years old.'"
   ]
  },
  {
   "cell_type": "markdown",
   "metadata": {},
   "source": [
    "**`format()` Method**:\n",
    "- This is the newer way of formatting strings using the `format()` method."
   ]
  },
  {
   "cell_type": "code",
   "execution_count": null,
   "metadata": {},
   "outputs": [],
   "source": [
    "# format() Method\n",
    "print(\"{} is {} years old.\".format(name, age))  # Output: 'Alice is 25 years old.'"
   ]
  },
  {
   "cell_type": "markdown",
   "metadata": {},
   "source": [
    "**f-Strings (Formatted String Literals)**:\n",
    "- This is the newest way of formatting strings, introduced in Python 3.6."
   ]
  },
  {
   "cell_type": "code",
   "execution_count": null,
   "metadata": {},
   "outputs": [],
   "source": [
    "# f-Strings\n",
    "print(f\"{name} is {age} years old.\")  # Output: 'Alice is 25 years old.'"
   ]
  },
  {
   "cell_type": "markdown",
   "metadata": {},
   "source": [
    "### Common String Operations"
   ]
  },
  {
   "cell_type": "markdown",
   "metadata": {},
   "source": [
    "**Finding Substrings**:\n",
    "- `find()` and `rfind()` return the lowest or highest index of the substring."
   ]
  },
  {
   "cell_type": "code",
   "execution_count": null,
   "metadata": {},
   "outputs": [],
   "source": [
    "# find() and rfind()\n",
    "text = \"Hello, World!\"\n",
    "print(text.find(\"World\"))  # Output: 7\n",
    "print(text.rfind(\"o\"))     # Output: 8"
   ]
  },
  {
   "cell_type": "markdown",
   "metadata": {},
   "source": [
    "**Checking for Substrings**:\n",
    "- `in` and `not in` operators check for the existence of a substring."
   ]
  },
  {
   "cell_type": "code",
   "execution_count": null,
   "metadata": {},
   "outputs": [],
   "source": [
    "# in and not in\n",
    "print(\"World\" in text)   # Output: True\n",
    "print(\"world\" not in text)  # Output: True"
   ]
  },
  {
   "cell_type": "markdown",
   "metadata": {},
   "source": [
    "### Conclusion\n",
    "Strings are an essential part of Python programming. Understanding how to manipulate and use strings effectively is crucial for any Python programmer."
   ]
  }
 ],
 "metadata": {
  "kernelspec": {
   "display_name": "Python 3",
   "language": "python",
   "name": "python3"
  },
  "language_info": {
   "codemirror_mode": {
    "name": "ipython",
    "version": 3
   },
   "file_extension": ".py",
   "mimetype": "text/x-python",
   "name": "python",
   "nbconvert_exporter": "python",
   "pygments_lexer": "ipython3",
   "version": "3.10.6"
  }
 },
 "nbformat": 4,
 "nbformat_minor": 4
}
