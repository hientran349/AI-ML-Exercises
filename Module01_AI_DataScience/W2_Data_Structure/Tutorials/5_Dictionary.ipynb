{
 "cells": [
  {
   "cell_type": "markdown",
   "metadata": {},
   "source": [
    "## Tutorial on Dictionaries in Python"
   ]
  },
  {
   "cell_type": "markdown",
   "metadata": {},
   "source": [
    "### Introduction to Dictionaries\n",
    "A dictionary in Python is an unordered collection of items. Each item is a key-value pair. Dictionaries are optimized to retrieve values when the key is known.\n",
    "\n",
    "Dictionary is similar to list (unique keys are used as indexes)"
   ]
  },
  {
   "cell_type": "markdown",
   "metadata": {},
   "source": [
    "### Syntax and Creation"
   ]
  },
  {
   "cell_type": "markdown",
   "metadata": {},
   "source": [
    "**Syntax**:\n",
    "- A dictionary is created using curly brackets `{}`.\n",
    "- It contains key-value pairs separated by a colon `:` and pairs separated by commas `,`.\n",
    "- Keys must be unique and immutable (e.g., strings, numbers, or tuples).\n",
    "- Values can be of any data type and can be duplicated."
   ]
  },
  {
   "cell_type": "code",
   "execution_count": null,
   "metadata": {},
   "outputs": [],
   "source": [
    "# Syntax:\n",
    "dict_name = {\n",
    "    key1: value1,\n",
    "    key2: value2,\n",
    "    ...\n",
    "}"
   ]
  },
  {
   "cell_type": "code",
   "execution_count": 28,
   "metadata": {},
   "outputs": [],
   "source": [
    "# Example:\n",
    "dict_name = {\"key1\": \"value1\",  \"key2\": \"value2\",  \"key3\": \"value3\", }\n",
    "\n",
    "student = {\n",
    "    \"name\": \"John Doe\",\n",
    "    \"age\": 21,\n",
    "    \"courses\": [\"Math\", \"CompSci\"]\n",
    "}"
   ]
  },
  {
   "cell_type": "markdown",
   "metadata": {},
   "source": [
    "### Accessing Values"
   ]
  },
  {
   "cell_type": "markdown",
   "metadata": {},
   "source": [
    "**Using Keys**:\n",
    "- Access a value by using its key inside square brackets `[]`.\n",
    "- If the key does not exist, it raises a `KeyError`."
   ]
  },
  {
   "cell_type": "code",
   "execution_count": null,
   "metadata": {},
   "outputs": [],
   "source": [
    "# Using Keys:\n",
    "value = dict_name[key]"
   ]
  },
  {
   "cell_type": "markdown",
   "metadata": {},
   "source": [
    "**Using `get()` method**:\n",
    "- Access a value by using the `get()` method, which returns `None` if the key does not exist, or you can provide a default value."
   ]
  },
  {
   "cell_type": "code",
   "execution_count": null,
   "metadata": {},
   "outputs": [],
   "source": [
    "# Using get() method:\n",
    "value = dict_name.get(key, default_value)"
   ]
  },
  {
   "cell_type": "markdown",
   "metadata": {},
   "source": [
    "**Examples**:"
   ]
  },
  {
   "cell_type": "code",
   "execution_count": 30,
   "metadata": {},
   "outputs": [
    {
     "name": "stdout",
     "output_type": "stream",
     "text": [
      "John Doe\n",
      "21\n",
      "Not Found\n"
     ]
    }
   ],
   "source": [
    "print(student[\"name\"])  # Output: John Doe\n",
    "print(student.get(\"age\"))  # Output: 21\n",
    "print(student.get(\"grade\", \"Not Found\"))  # Output: Not Found"
   ]
  },
  {
   "cell_type": "markdown",
   "metadata": {},
   "source": [
    "### Dictionary Comprehension"
   ]
  },
  {
   "cell_type": "code",
   "execution_count": 5,
   "metadata": {},
   "outputs": [
    {
     "name": "stdout",
     "output_type": "stream",
     "text": [
      "{'0': 0, '1': 1, '2': 2, '3': 3, '4': 4}\n"
     ]
    }
   ],
   "source": [
    "a_dict = {str(i) : i    for i in range(5)}\n",
    "print(a_dict)"
   ]
  },
  {
   "cell_type": "markdown",
   "metadata": {},
   "source": [
    "### Remove empty items by Dictionary Comprehension"
   ]
  },
  {
   "cell_type": "code",
   "execution_count": 41,
   "metadata": {},
   "outputs": [
    {
     "name": "stdout",
     "output_type": "stream",
     "text": [
      "{'banana': 2}\n"
     ]
    }
   ],
   "source": [
    "# remove empty items\n",
    "fruits = {'banana': 2, 'apple': None}\n",
    "\n",
    "dict1 = {key:value for (key, value) \n",
    "                        in fruits.items() \n",
    "                        if value is not None}\n",
    "print(dict1)"
   ]
  },
  {
   "cell_type": "markdown",
   "metadata": {},
   "source": [
    "### Check if a key exists"
   ]
  },
  {
   "cell_type": "code",
   "execution_count": 42,
   "metadata": {},
   "outputs": [
    {
     "name": "stdout",
     "output_type": "stream",
     "text": [
      "True\n",
      "False\n"
     ]
    }
   ],
   "source": [
    "# check if a key exists\n",
    "\n",
    "fruits = {'banana': 2, 'apple': 4}\n",
    "\n",
    "print('apple' in fruits)  #True\n",
    "print('corn' in fruits)   #False"
   ]
  },
  {
   "cell_type": "markdown",
   "metadata": {},
   "source": [
    "### Create Dictionary from Zip of two Lists/ Tuples/ Sets"
   ]
  },
  {
   "cell_type": "code",
   "execution_count": 6,
   "metadata": {},
   "outputs": [
    {
     "name": "stdout",
     "output_type": "stream",
     "text": [
      "<class 'dict'> {1: 7, 2: 8, 3: 9}\n"
     ]
    }
   ],
   "source": [
    "set1 = {1, 2, 3}\n",
    "list1 = [7, 8, 9]\n",
    "\n",
    "a_dict = dict( zip(set1, list1) )\n",
    "print(type(a_dict), a_dict)"
   ]
  },
  {
   "cell_type": "markdown",
   "metadata": {},
   "source": [
    "### Modifying Dictionaries"
   ]
  },
  {
   "cell_type": "markdown",
   "metadata": {},
   "source": [
    "**Adding Items**:\n",
    "- Add a new key-value pair or update an existing key’s value using the assignment operator `=`."
   ]
  },
  {
   "cell_type": "code",
   "execution_count": null,
   "metadata": {},
   "outputs": [],
   "source": [
    "# Adding Items:\n",
    "dict_name[new_key] = value"
   ]
  },
  {
   "cell_type": "markdown",
   "metadata": {},
   "source": [
    "**Updating Items**:\n",
    "- Update an existing key’s value by reassigning it."
   ]
  },
  {
   "cell_type": "code",
   "execution_count": null,
   "metadata": {},
   "outputs": [],
   "source": [
    "# Updating Items:\n",
    "dict_name[current_key] = new_value"
   ]
  },
  {
   "cell_type": "markdown",
   "metadata": {},
   "source": [
    "**Examples**:"
   ]
  },
  {
   "cell_type": "code",
   "execution_count": null,
   "metadata": {},
   "outputs": [],
   "source": [
    "student[\"grade\"] = \"A\"\n",
    "print(student)  # Output includes 'grade': 'A'\n",
    "\n",
    "student[\"age\"] = 22\n",
    "print(student[\"age\"])  # Output: 22"
   ]
  },
  {
   "cell_type": "markdown",
   "metadata": {},
   "source": [
    "### Removing Items"
   ]
  },
  {
   "cell_type": "markdown",
   "metadata": {},
   "source": [
    "**Using `pop()` method**:\n",
    "- Remove a key-value pair by the key and return its value. If the key does not exist, it raises a `KeyError`."
   ]
  },
  {
   "cell_type": "code",
   "execution_count": null,
   "metadata": {},
   "outputs": [],
   "source": [
    "# Using pop() method:\n",
    "value = dict_name.pop(key)"
   ]
  },
  {
   "cell_type": "markdown",
   "metadata": {},
   "source": [
    "**Using `popitem()` method**:\n",
    "- Remove the last item and return its values. If the key does not exist, it raises a `KeyError`."
   ]
  },
  {
   "cell_type": "code",
   "execution_count": 31,
   "metadata": {},
   "outputs": [
    {
     "name": "stdout",
     "output_type": "stream",
     "text": [
      "(3, 30)\n",
      "{1: 10, 2: 20}\n"
     ]
    }
   ],
   "source": [
    "myDictionary = {1: 10,  2: 20,  3: 30}\n",
    "last_item = myDictionary.popitem()\n",
    "\n",
    "print(last_item)\n",
    "print(myDictionary)"
   ]
  },
  {
   "cell_type": "markdown",
   "metadata": {},
   "source": [
    "**Using `del` keyword**:\n",
    "- Delete a key-value pair by the key. If the key does not exist, it raises a `KeyError`."
   ]
  },
  {
   "cell_type": "code",
   "execution_count": null,
   "metadata": {},
   "outputs": [],
   "source": [
    "# Using del keyword:\n",
    "del dict_name[key]"
   ]
  },
  {
   "cell_type": "markdown",
   "metadata": {},
   "source": [
    "**Using `clear()` method**:\n",
    "- Remove all items from the dictionary."
   ]
  },
  {
   "cell_type": "code",
   "execution_count": null,
   "metadata": {},
   "outputs": [],
   "source": [
    "# Using clear() method:\n",
    "dict_name.clear()"
   ]
  },
  {
   "cell_type": "markdown",
   "metadata": {},
   "source": [
    "**Examples**:"
   ]
  },
  {
   "cell_type": "code",
   "execution_count": null,
   "metadata": {},
   "outputs": [],
   "source": [
    "age = student.pop(\"age\")\n",
    "print(age)  # Output: 21\n",
    "print(student)  # 'age' key is removed\n",
    "\n",
    "del student[\"grade\"]\n",
    "print(student)  # 'grade' key is removed\n",
    "\n",
    "student.clear()\n",
    "print(student)  # Output: {}"
   ]
  },
  {
   "cell_type": "markdown",
   "metadata": {},
   "source": [
    "### Dictionary Methods"
   ]
  },
  {
   "cell_type": "markdown",
   "metadata": {},
   "source": [
    "**`keys()`**:\n",
    "- Return a view object of the dictionary’s keys."
   ]
  },
  {
   "cell_type": "code",
   "execution_count": null,
   "metadata": {},
   "outputs": [],
   "source": [
    "# keys():\n",
    "keys = dict_name.keys()"
   ]
  },
  {
   "cell_type": "markdown",
   "metadata": {},
   "source": [
    "**`values()`**:\n",
    "- Return a view object of the dictionary’s values."
   ]
  },
  {
   "cell_type": "code",
   "execution_count": null,
   "metadata": {},
   "outputs": [],
   "source": [
    "# values():\n",
    "values = dict_name.values()"
   ]
  },
  {
   "cell_type": "markdown",
   "metadata": {},
   "source": [
    "**`items()`**:\n",
    "- Return a view object of the dictionary’s key-value pairs."
   ]
  },
  {
   "cell_type": "code",
   "execution_count": null,
   "metadata": {},
   "outputs": [],
   "source": [
    "# items():\n",
    "items = dict_name.items()"
   ]
  },
  {
   "cell_type": "markdown",
   "metadata": {},
   "source": [
    "**`update()`**:\n",
    "- Update the dictionary with key-value pairs from another dictionary or an iterable of key-value pairs."
   ]
  },
  {
   "cell_type": "code",
   "execution_count": null,
   "metadata": {},
   "outputs": [],
   "source": [
    "# update():\n",
    "dict_name.update(other_dict)"
   ]
  },
  {
   "cell_type": "markdown",
   "metadata": {},
   "source": [
    "**Examples**:"
   ]
  },
  {
   "cell_type": "code",
   "execution_count": null,
   "metadata": {},
   "outputs": [],
   "source": [
    "print(student.keys())  # Output: dict_keys(['name', 'courses'])\n",
    "\n",
    "print(student.values())  # Output: dict_values(['John Doe', ['Math', 'CompSci']])\n",
    "\n",
    "print(student.items())  # Output: dict_items([('name', 'John Doe'), ('courses', ['Math', 'CompSci'])])\n",
    "\n",
    "student.update({\"age\": 22, \"grade\": \"A\"})\n",
    "print(student)  # Output includes 'age': 22, 'grade': 'A'"
   ]
  },
  {
   "cell_type": "markdown",
   "metadata": {},
   "source": [
    "### Get Keys/Values and Looping through Dictionaries"
   ]
  },
  {
   "cell_type": "markdown",
   "metadata": {},
   "source": [
    "**Get keys and Loop through keys**:"
   ]
  },
  {
   "cell_type": "code",
   "execution_count": 27,
   "metadata": {},
   "outputs": [
    {
     "name": "stdout",
     "output_type": "stream",
     "text": [
      "key1\n",
      "key2\n",
      "key3\n",
      "key1\n",
      "key2\n",
      "key3\n"
     ]
    }
   ],
   "source": [
    "# Loop through keys:\n",
    "for key in dict_name.keys():\n",
    "    print(key)\n",
    "\n",
    "# Another way: by default, looping through dictionary is conducted by keys\n",
    "for key_name in dict_name:\n",
    "    print(key_name)"
   ]
  },
  {
   "cell_type": "markdown",
   "metadata": {},
   "source": [
    "**Get values and Loop through values**:"
   ]
  },
  {
   "cell_type": "code",
   "execution_count": 23,
   "metadata": {},
   "outputs": [
    {
     "name": "stdout",
     "output_type": "stream",
     "text": [
      "value1\n",
      "value2\n",
      "value3\n"
     ]
    }
   ],
   "source": [
    "# Loop through values:\n",
    "for value in dict_name.values():\n",
    "    print(value)"
   ]
  },
  {
   "cell_type": "markdown",
   "metadata": {},
   "source": [
    "**Loop through items of key-value pairs**:"
   ]
  },
  {
   "cell_type": "code",
   "execution_count": null,
   "metadata": {},
   "outputs": [],
   "source": [
    "# Loop through key-value pairs by items():\n",
    "for key, value in dict_name.items():\n",
    "    print(key, value)"
   ]
  },
  {
   "cell_type": "markdown",
   "metadata": {},
   "source": [
    "### Nesting Dictionaries"
   ]
  },
  {
   "cell_type": "markdown",
   "metadata": {},
   "source": [
    "**Syntax and Example**:\n",
    "- A dictionary can contain another dictionary as a value."
   ]
  },
  {
   "cell_type": "code",
   "execution_count": null,
   "metadata": {},
   "outputs": [],
   "source": [
    "# Syntax and Example:\n",
    "students = {\n",
    "    \"student1\": {\n",
    "        \"name\": \"John Doe\",\n",
    "        \"age\": 21,\n",
    "        \"courses\": [\"Math\", \"CompSci\"]\n",
    "    },\n",
    "    \"student2\": {\n",
    "        \"name\": \"Jane Doe\",\n",
    "        \"age\": 22,\n",
    "        \"courses\": [\"Biology\", \"Chemistry\"]\n",
    "    }\n",
    "}\n",
    "\n",
    "print(students[\"student1\"][\"name\"])  # Output: John Doe"
   ]
  },
  {
   "cell_type": "markdown",
   "metadata": {},
   "source": [
    "### Copy Dictionary: Shallow Copy vs. Deep Copy"
   ]
  },
  {
   "cell_type": "markdown",
   "metadata": {},
   "source": [
    "#### Shallow Copy\n",
    "A shallow copy means that the new list contains references to the same objects as the original list. If the list contains mutable objects, modifying those objects through the copy will affect the original list."
   ]
  },
  {
   "cell_type": "code",
   "execution_count": 15,
   "metadata": {},
   "outputs": [
    {
     "name": "stdout",
     "output_type": "stream",
     "text": [
      "{'a': [3, 4], 'b': 100}\n",
      "{'a': [3, 4], 'b': 100}\n",
      "{'a': [30, 40], 'b': 200}\n",
      "{'a': [3, 4], 'b': 100}\n"
     ]
    }
   ],
   "source": [
    "d1 = {'a': [1, 2],  'b': 100}\n",
    "d2 = d1.copy() #d1 and d2 will have the same memory address (shallow copy)\n",
    "\n",
    "# Change d2 may affect d1 if we change the values of mutable elements\n",
    "d2['a'][0] = 3\n",
    "d2['a'][1] = 4\n",
    "\n",
    "print(d2)\n",
    "print(d1)\n",
    "\n",
    "# Change d2 may not affect d1 if we change the values of immutable elements\n",
    "d2['a'] = [30, 40] #Link with a new list (instead of changing values in the list)\n",
    "d2['b'] = 200\n",
    "print(d2)\n",
    "print(d1)"
   ]
  },
  {
   "cell_type": "markdown",
   "metadata": {},
   "source": [
    "#### Deep Copy"
   ]
  },
  {
   "cell_type": "code",
   "execution_count": 19,
   "metadata": {},
   "outputs": [
    {
     "name": "stdout",
     "output_type": "stream",
     "text": [
      "{'a': [3, 4], 'b': 100}\n",
      "{'a': [1, 2], 'b': 100}\n"
     ]
    }
   ],
   "source": [
    "import copy\n",
    "\n",
    "d1 = {'a': [1, 2],  'b': 100}\n",
    "d2 = copy.deepcopy(d1) #d1 and d2 will have the different memory address (deep copy)\n",
    "\n",
    "# Change d2 will NEVER affect d1 \n",
    "d2['a'][0] = 3\n",
    "d2['a'][1] = 4\n",
    "\n",
    "print(d2)\n",
    "print(d1)"
   ]
  },
  {
   "cell_type": "markdown",
   "metadata": {},
   "source": [
    "### SetDefault()\n",
    "Add a new item by key into the dictionary if the key is not found in the dictionary.\n",
    "If the key is already in the dictionary, this will have no effect\n"
   ]
  },
  {
   "cell_type": "code",
   "execution_count": 34,
   "metadata": {},
   "outputs": [
    {
     "name": "stdout",
     "output_type": "stream",
     "text": [
      "{'id': 12345, 'name': 'Unknown'}\n",
      "{'id': 12345, 'name': 'Unknown'}\n"
     ]
    }
   ],
   "source": [
    "user_data = {'id': 12345}\n",
    "\n",
    "# Use setdefault to set the value for 'name' with a default of 'Unknown'\n",
    "# value of key 'name' will be 'Unknown' if 'name' wasn't in the dictionary before)\n",
    "user_data.setdefault('name', 'Unknown')\n",
    "print(user_data)\n",
    "\n",
    "\n",
    "#This will have no effect as the key 'name' is already found in dictionary\n",
    "user_data.setdefault('name', 'NEWNAME')\n",
    "print(user_data)"
   ]
  },
  {
   "cell_type": "markdown",
   "metadata": {},
   "source": [
    "### Merge two dictionaries\n",
    "Syntax:  {**dictionary1, **dictionary2}"
   ]
  },
  {
   "cell_type": "code",
   "execution_count": 38,
   "metadata": {},
   "outputs": [
    {
     "name": "stdout",
     "output_type": "stream",
     "text": [
      "{'banana': 2, 'apple': 4, 'rice': 3, 'corn': 7}\n"
     ]
    }
   ],
   "source": [
    "# merge two dicts\n",
    "\n",
    "fruits = {'banana': 2, 'apple': 4}\n",
    "cereal = {'rice': 3, 'corn': 7}\n",
    "\n",
    "result = {**fruits, **cereal}\n",
    "print(result)"
   ]
  }
 ],
 "metadata": {
  "kernelspec": {
   "display_name": "Python 3",
   "language": "python",
   "name": "python3"
  },
  "language_info": {
   "codemirror_mode": {
    "name": "ipython",
    "version": 3
   },
   "file_extension": ".py",
   "mimetype": "text/x-python",
   "name": "python",
   "nbconvert_exporter": "python",
   "pygments_lexer": "ipython3",
   "version": "3.10.6"
  }
 },
 "nbformat": 4,
 "nbformat_minor": 4
}
