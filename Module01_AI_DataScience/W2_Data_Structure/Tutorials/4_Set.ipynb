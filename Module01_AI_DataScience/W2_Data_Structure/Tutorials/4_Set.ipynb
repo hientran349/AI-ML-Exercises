{
 "cells": [
  {
   "cell_type": "markdown",
   "metadata": {},
   "source": [
    "## Tutorial on Sets in Python"
   ]
  },
  {
   "cell_type": "markdown",
   "metadata": {},
   "source": [
    "### Introduction to Sets\n",
    "A set in Python is an **unordered collection of unique items**. Sets are mutable, meaning their elements can be changed after they are created. Sets are useful for storing unique elements and performing set operations like union, intersection, and difference."
   ]
  },
  {
   "cell_type": "markdown",
   "metadata": {},
   "source": [
    "### Creating Sets"
   ]
  },
  {
   "cell_type": "markdown",
   "metadata": {},
   "source": [
    "**Syntax**:\n",
    "- Sets are created using curly braces `{}` or the `set()` function.\n",
    "- Elements inside the set are separated by commas `,`.\n",
    "- An empty set cannot be created with `{}`; use `set()` instead.\n",
    "- The order of elements when printed out may be different with the order when they are created (sorted with hashcode)"
   ]
  },
  {
   "cell_type": "code",
   "execution_count": 6,
   "metadata": {},
   "outputs": [
    {
     "name": "stdout",
     "output_type": "stream",
     "text": [
      "{1, 2, 3, 4, 5}\n",
      "{'cat', 'tiger', 'dog'}\n",
      "{1, 3, 'apple'}\n",
      "set()\n"
     ]
    }
   ],
   "source": [
    "# Example\n",
    "set1 = {1, 2, 3, 4, 5}\n",
    "print(set1)\n",
    "\n",
    "set2 = {'cat', 'dog', 'tiger'}\n",
    "print(set2)  # Output is {'cat', 'tiger', 'dog'}\n",
    "\n",
    "set3 = set([1, 'apple', 3, True])\n",
    "print(set3)  # Output is {1, 3.5, 'apple'}\n",
    "\n",
    "set4 = set()\n",
    "print(set4)  # Output is set()"
   ]
  },
  {
   "cell_type": "markdown",
   "metadata": {},
   "source": [
    "### Set cannot contain unhashable types (mutable types like list)"
   ]
  },
  {
   "cell_type": "code",
   "execution_count": 18,
   "metadata": {},
   "outputs": [
    {
     "ename": "TypeError",
     "evalue": "unhashable type: 'list'",
     "output_type": "error",
     "traceback": [
      "\u001b[1;31m---------------------------------------------------------------------------\u001b[0m",
      "\u001b[1;31mTypeError\u001b[0m                                 Traceback (most recent call last)",
      "Cell \u001b[1;32mIn[18], line 1\u001b[0m\n\u001b[1;32m----> 1\u001b[0m a_set \u001b[38;5;241m=\u001b[39m {\u001b[38;5;241m1\u001b[39m, \u001b[38;5;241m3\u001b[39m, \u001b[38;5;241m5\u001b[39m,  [\u001b[38;5;241m4\u001b[39m, \u001b[38;5;241m6\u001b[39m, \u001b[38;5;241m7\u001b[39m] }\n\u001b[0;32m      2\u001b[0m \u001b[38;5;28mprint\u001b[39m(a_set)\n",
      "\u001b[1;31mTypeError\u001b[0m: unhashable type: 'list'"
     ]
    }
   ],
   "source": [
    "a_set = {1, 3, 5,  [4, 6, 7] }\n",
    "print(a_set)"
   ]
  },
  {
   "cell_type": "markdown",
   "metadata": {},
   "source": [
    "### Set Comprehension\n",
    "Note: elements in a sort are not sorted in value order  (unordered and unindexed)"
   ]
  },
  {
   "cell_type": "code",
   "execution_count": 9,
   "metadata": {},
   "outputs": [
    {
     "name": "stdout",
     "output_type": "stream",
     "text": [
      "{0, 1, 64, 4, 36, 9, 16, 49, 81, 25}\n"
     ]
    }
   ],
   "source": [
    "a_set = {i*i for i in range(10)}\n",
    "print(a_set)"
   ]
  },
  {
   "cell_type": "markdown",
   "metadata": {},
   "source": [
    "### CONVERT SET <-> LIST/ TUPLE"
   ]
  },
  {
   "cell_type": "code",
   "execution_count": 23,
   "metadata": {},
   "outputs": [
    {
     "name": "stdout",
     "output_type": "stream",
     "text": [
      "<class 'list'> [1, 2, 3, 4, 5]\n",
      "<class 'tuple'> (1, 2, 3, 4, 5)\n",
      "<class 'set'> {10, 20, 30}\n",
      "<class 'set'> {200, 100, 300}\n"
     ]
    }
   ],
   "source": [
    "a_set = {1, 2, 3, 4, 5}\n",
    "\n",
    "a_list = list(a_set)\n",
    "print(type(a_list), a_list)\n",
    "\n",
    "a_tuple = tuple(a_set)\n",
    "print(type(a_tuple), a_tuple)\n",
    "\n",
    "\n",
    "set2 = set( [10, 20, 30] )\n",
    "print(type(set2), set2)\n",
    "\n",
    "set3 = set( (100, 200, 300) )\n",
    "print(type(set3), set3)\n"
   ]
  },
  {
   "cell_type": "markdown",
   "metadata": {},
   "source": [
    "### Accessing Elements in a Set"
   ]
  },
  {
   "cell_type": "markdown",
   "metadata": {},
   "source": [
    "Sets are unordered collections, so you cannot access elements using an index. However, you can loop through the elements of a set using a `for` loop."
   ]
  },
  {
   "cell_type": "code",
   "execution_count": null,
   "metadata": {},
   "outputs": [],
   "source": [
    "# Looping through a set\n",
    "fruits = {'apple', 'banana', 'cherry'}\n",
    "for fruit in fruits:\n",
    "    print(fruit)"
   ]
  },
  {
   "cell_type": "markdown",
   "metadata": {},
   "source": [
    "### Adding Elements to a Set"
   ]
  },
  {
   "cell_type": "markdown",
   "metadata": {},
   "source": [
    "**Syntax**:\n",
    "- `add()` method adds a single element to the set.\n",
    "- `update()` method adds multiple elements to the set from a list/ tuple or another set\n",
    "\n",
    "** NOTE: Duplicate values are ignored (make sure that all elements are unique)"
   ]
  },
  {
   "cell_type": "code",
   "execution_count": 16,
   "metadata": {},
   "outputs": [
    {
     "name": "stdout",
     "output_type": "stream",
     "text": [
      "{'orange', 'cherry', 'banana', 'apple'}\n",
      "{'banana', 'apple', 'mango', 'grape', 'orange', 'cherry'}\n",
      "{'pineapple', 'banana', 'apple', 'mango', 'grape', 'orange', 'watermelon', 'cherry'}\n"
     ]
    }
   ],
   "source": [
    "# Adding Elements\n",
    "fruits = {'apple', 'banana', 'cherry'}\n",
    "\n",
    "# add()\n",
    "fruits.add('orange')\n",
    "print(fruits)  # Output includes 'orange'\n",
    "\n",
    "# update()\n",
    "fruits.update(['mango', 'grape'])\n",
    "print(fruits)  # Output includes 'mango' and 'grape'\n",
    "\n",
    "new_fruits = {'watermelon', 'pineapple'}\n",
    "fruits.update(new_fruits)\n",
    "print(fruits)  # Output includes all"
   ]
  },
  {
   "cell_type": "markdown",
   "metadata": {},
   "source": [
    "### Removing Elements from a Set"
   ]
  },
  {
   "cell_type": "markdown",
   "metadata": {},
   "source": [
    "**Syntax**:\n",
    "- `remove()` method removes a specified element from the set. Raises a `KeyError` if the element is not found.\n",
    "- `discard()` method removes a specified element from the set if it is inside. Does not raise an error if the element is not found.\n",
    "  \n",
    "- `pop()` method removes and returns an arbitrary element from the set.\n",
    "- `clear()` method removes all elements from the set."
   ]
  },
  {
   "cell_type": "code",
   "execution_count": null,
   "metadata": {},
   "outputs": [],
   "source": [
    "# Removing Elements\n",
    "fruits = {'apple', 'banana', 'cherry', 'mango', 'grape'}\n",
    "\n",
    "# remove()\n",
    "fruits.remove('banana')\n",
    "print(fruits)  # Output does not include 'banana'\n",
    "\n",
    "# discard()\n",
    "fruits.discard('mango')\n",
    "print(fruits)  # Output does not include 'mango'\n",
    "\n",
    "# pop()\n",
    "fruit = fruits.pop()\n",
    "print(fruit)  # Output: an arbitrary element\n",
    "print(fruits)  # Output: the set without the popped element\n",
    "\n",
    "# clear()\n",
    "fruits.clear()\n",
    "print(fruits)  # Output: set()"
   ]
  },
  {
   "cell_type": "markdown",
   "metadata": {},
   "source": [
    "### Set Operations"
   ]
  },
  {
   "cell_type": "markdown",
   "metadata": {},
   "source": [
    "Python provides several built-in methods for performing set operations like union, intersection, difference, and symmetric difference."
   ]
  },
  {
   "cell_type": "markdown",
   "metadata": {},
   "source": [
    "**Union**:\n",
    "- Returns a set containing all elements from both sets.\n",
    "- `union()` method or `|` operator."
   ]
  },
  {
   "cell_type": "code",
   "execution_count": null,
   "metadata": {},
   "outputs": [],
   "source": [
    "# Union\n",
    "set1 = {1, 2, 3}\n",
    "set2 = {3, 4, 5}\n",
    "\n",
    "union_set = set1.union(set2)\n",
    "print(union_set)  # Output: {1, 2, 3, 4, 5}\n",
    "\n",
    "union_set = set1 | set2\n",
    "print(union_set)  # Output: {1, 2, 3, 4, 5}"
   ]
  },
  {
   "cell_type": "markdown",
   "metadata": {},
   "source": [
    "**Intersection**:\n",
    "- Returns a set containing only the elements that are present in both sets.\n",
    "- `intersection()` method or `&` operator."
   ]
  },
  {
   "cell_type": "code",
   "execution_count": null,
   "metadata": {},
   "outputs": [],
   "source": [
    "# Intersection\n",
    "set1 = {1, 2, 3}\n",
    "set2 = {3, 4, 5}\n",
    "\n",
    "intersection_set = set1.intersection(set2)\n",
    "print(intersection_set)  # Output: {3}\n",
    "\n",
    "intersection_set = set1 & set2\n",
    "print(intersection_set)  # Output: {3}"
   ]
  },
  {
   "cell_type": "markdown",
   "metadata": {},
   "source": [
    "**Difference**:\n",
    "- Returns a set containing the elements that are in the first set but not in the second set.\n",
    "- `difference()` method or `-` operator."
   ]
  },
  {
   "cell_type": "code",
   "execution_count": null,
   "metadata": {},
   "outputs": [],
   "source": [
    "# Difference\n",
    "set1 = {1, 2, 3}\n",
    "set2 = {3, 4, 5}\n",
    "\n",
    "difference_set = set1.difference(set2)\n",
    "print(difference_set)  # Output: {1, 2}\n",
    "\n",
    "difference_set = set1 - set2\n",
    "print(difference_set)  # Output: {1, 2}"
   ]
  },
  {
   "cell_type": "markdown",
   "metadata": {},
   "source": [
    "**Symmetric Difference**:\n",
    "- Returns a set containing the elements that are in either of the sets but not in both.\n",
    "- `symmetric_difference()` method or `^` operator."
   ]
  },
  {
   "cell_type": "code",
   "execution_count": null,
   "metadata": {},
   "outputs": [],
   "source": [
    "# Symmetric Difference\n",
    "set1 = {1, 2, 3}\n",
    "set2 = {3, 4, 5}\n",
    "\n",
    "sym_diff_set = set1.symmetric_difference(set2)\n",
    "print(sym_diff_set)  # Output: {1, 2, 4, 5}\n",
    "\n",
    "sym_diff_set = set1 ^ set2\n",
    "print(sym_diff_set)  # Output: {1, 2, 4, 5}"
   ]
  },
  {
   "cell_type": "markdown",
   "metadata": {},
   "source": [
    "### Set Methods"
   ]
  },
  {
   "cell_type": "markdown",
   "metadata": {},
   "source": [
    "Python provides several built-in methods for set manipulation."
   ]
  },
  {
   "cell_type": "markdown",
   "metadata": {},
   "source": [
    "**`issubset()` and `issuperset()`**:\n",
    "- `issubset()` method returns `True` if all elements of the set are in another set.\n",
    "- `issuperset()` method returns `True` if the set contains all elements of another set."
   ]
  },
  {
   "cell_type": "code",
   "execution_count": null,
   "metadata": {},
   "outputs": [],
   "source": [
    "# issubset() and issuperset()\n",
    "set1 = {1, 2, 3}\n",
    "set2 = {1, 2, 3, 4, 5}\n",
    "\n",
    "print(set1.issubset(set2))  # Output: True\n",
    "print(set2.issuperset(set1))  # Output: True"
   ]
  },
  {
   "cell_type": "markdown",
   "metadata": {},
   "source": [
    "**`copy()`**:\n",
    "- Returns a shallow copy of the set."
   ]
  },
  {
   "cell_type": "code",
   "execution_count": null,
   "metadata": {},
   "outputs": [],
   "source": [
    "# copy()\n",
    "set1 = {1, 2, 3}\n",
    "set2 = set1.copy()\n",
    "print(set2)  # Output: {1, 2, 3}"
   ]
  },
  {
   "cell_type": "markdown",
   "metadata": {},
   "source": [
    "**`frozenset()`**:\n",
    "- Returns an immutable set."
   ]
  },
  {
   "cell_type": "code",
   "execution_count": null,
   "metadata": {},
   "outputs": [],
   "source": [
    "# frozenset()\n",
    "set1 = {1, 2, 3}\n",
    "frozen_set = frozenset(set1)\n",
    "print(frozen_set)  # Output: frozenset({1, 2, 3})"
   ]
  },
  {
   "cell_type": "markdown",
   "metadata": {},
   "source": [
    "### Conclusion\n",
    "Sets are a fundamental data structure in Python. Understanding how to create, manipulate, and use sets is essential for any Python programmer."
   ]
  }
 ],
 "metadata": {
  "kernelspec": {
   "display_name": "Python 3",
   "language": "python",
   "name": "python3"
  },
  "language_info": {
   "codemirror_mode": {
    "name": "ipython",
    "version": 3
   },
   "file_extension": ".py",
   "mimetype": "text/x-python",
   "name": "python",
   "nbconvert_exporter": "python",
   "pygments_lexer": "ipython3",
   "version": "3.10.6"
  }
 },
 "nbformat": 4,
 "nbformat_minor": 4
}
