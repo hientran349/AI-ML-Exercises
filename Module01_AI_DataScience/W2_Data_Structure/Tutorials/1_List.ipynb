{
 "cells": [
  {
   "cell_type": "markdown",
   "metadata": {},
   "source": [
    "## Tutorial on Lists in Python"
   ]
  },
  {
   "cell_type": "markdown",
   "metadata": {},
   "source": [
    "### Introduction to Lists\n",
    "A list in Python is an ordered collection of items. Lists are mutable, meaning their elements can be changed after they are created. Lists can hold elements of different data types, and duplicate values."
   ]
  },
  {
   "cell_type": "markdown",
   "metadata": {},
   "source": [
    "### Creating Lists"
   ]
  },
  {
   "cell_type": "markdown",
   "metadata": {},
   "source": [
    "**Syntax**:\n",
    "- Lists are created using square brackets `[]`.\n",
    "- Elements inside the list are separated by commas `,`."
   ]
  },
  {
   "cell_type": "code",
   "execution_count": 1,
   "metadata": {},
   "outputs": [
    {
     "name": "stdout",
     "output_type": "stream",
     "text": [
      "[1, 2, 3, 4, 5]\n",
      "['apple', 'banana', 'cherry']\n",
      "[1, 'apple', 3.5, True]\n"
     ]
    }
   ],
   "source": [
    "# Example\n",
    "list0 = []   # Empty list\n",
    "list1 = [1, 2, 3, 4, 5]\n",
    "list2 = ['apple', 'banana', 'cherry']\n",
    "list3 = [1, 'apple', 3.5, True]\n",
    "\n",
    "print(list1)\n",
    "print(list2)\n",
    "print(list3)"
   ]
  },
  {
   "cell_type": "markdown",
   "metadata": {},
   "source": [
    "### Accessing Elements in a List"
   ]
  },
  {
   "cell_type": "markdown",
   "metadata": {},
   "source": [
    "**Syntax**:\n",
    "- Elements in a list can be accessed using indexing.\n",
    "- Positive indexing starts from 0.\n",
    "- Negative indexing starts from -1."
   ]
  },
  {
   "cell_type": "code",
   "execution_count": null,
   "metadata": {},
   "outputs": [],
   "source": [
    "# Example List\n",
    "fruits = ['apple', 'banana', 'cherry']\n",
    "\n",
    "# Positive indexing\n",
    "print(fruits[0])  # Output: 'apple'\n",
    "print(fruits[1])  # Output: 'banana'\n",
    "\n",
    "# Negative indexing\n",
    "print(fruits[-1])  # Output: 'cherry'\n",
    "print(fruits[-2])  # Output: 'banana'"
   ]
  },
  {
   "cell_type": "markdown",
   "metadata": {},
   "source": [
    "### Slicing Lists"
   ]
  },
  {
   "cell_type": "markdown",
   "metadata": {},
   "source": [
    "**Syntax**:\n",
    "- Slicing allows you to get a subset of the list.\n",
    "- The syntax is `list[start:stop:step]`.\n",
    "- `start` is the starting index, `stop` is the stopping index (exclusive), and `step` is the step value."
   ]
  },
  {
   "cell_type": "code",
   "execution_count": null,
   "metadata": {},
   "outputs": [],
   "source": [
    "# Example List\n",
    "numbers = [0, 1, 2, 3, 4, 5, 6, 7, 8, 9]\n",
    "\n",
    "# Slicing\n",
    "print(numbers[1:5])   # Output: [1, 2, 3, 4]\n",
    "print(numbers[::2])   # Output: [0, 2, 4, 6, 8]\n",
    "print(numbers[::-1])  # Output: [9, 8, 7, 6, 5, 4, 3, 2, 1, 0]"
   ]
  },
  {
   "cell_type": "markdown",
   "metadata": {},
   "source": [
    "### Modifying Elements in a List"
   ]
  },
  {
   "cell_type": "markdown",
   "metadata": {},
   "source": [
    "Lists are mutable, so their elements can be changed after they are created."
   ]
  },
  {
   "cell_type": "markdown",
   "metadata": {},
   "source": [
    "##### Updating Elements:\n",
    "Elements can be updated by accessing their index and assigning a new value."
   ]
  },
  {
   "cell_type": "code",
   "execution_count": 12,
   "metadata": {},
   "outputs": [
    {
     "name": "stdout",
     "output_type": "stream",
     "text": [
      "['apple', 'blackberry', 'cherry']\n"
     ]
    }
   ],
   "source": [
    "# Define List\n",
    "fruits = ['apple', 'banana', 'cherry']\n",
    "\n",
    "# Updating Elements\n",
    "fruits[1] = 'blackberry'\n",
    "print(fruits)  # Output: ['apple', 'blackberry', 'banana', 'cherry', 'orange', 'mango', 'grape']"
   ]
  },
  {
   "cell_type": "markdown",
   "metadata": {},
   "source": [
    "##### Adding Elements:\n",
    "- `append()` method adds an element at the end of the list.\n",
    "- `insert()` method adds an element at a specified position.\n",
    "- `extend()` method adds elements from another list (or any iterable) to the end of the current list."
   ]
  },
  {
   "cell_type": "code",
   "execution_count": null,
   "metadata": {},
   "outputs": [],
   "source": [
    "# append()\n",
    "fruits.append('orange')\n",
    "print(fruits)  # Output: ['apple', 'banana', 'cherry', 'orange']\n",
    "\n",
    "# insert()\n",
    "fruits.insert(1, 'blueberry')\n",
    "print(fruits)  # Output: ['apple', 'blueberry', 'banana', 'cherry', 'orange']\n",
    "\n",
    "# extend()\n",
    "fruits.extend(['mango', 'grape'])\n",
    "print(fruits)  # Output: ['apple', 'blueberry', 'banana', 'cherry', 'orange', 'mango', 'grape']"
   ]
  },
  {
   "cell_type": "markdown",
   "metadata": {},
   "source": [
    "**Removing Elements**:\n",
    "- `remove()` method removes the first occurrence of a specified value.\n",
    "- `pop()` method removes the element at a specified position (or the last element if the position is not specified).\n",
    "- `clear()` method removes all elements from the list."
   ]
  },
  {
   "cell_type": "code",
   "execution_count": null,
   "metadata": {},
   "outputs": [],
   "source": [
    "# Removing Elements\n",
    "fruits.remove('banana')\n",
    "print(fruits)  # Output: ['apple', 'blackberry', 'cherry', 'orange', 'mango', 'grape']\n",
    "\n",
    "fruits.pop(2)\n",
    "print(fruits)  # Output: ['apple', 'blackberry', 'orange', 'mango', 'grape']\n",
    "\n",
    "fruits.clear()\n",
    "print(fruits)  # Output: []"
   ]
  },
  {
   "cell_type": "markdown",
   "metadata": {},
   "source": [
    "### List Methods\n",
    "Besides the above methods, Python provides several additional built-in methods for list as follows:\n",
    "\n",
    "Find index/count:\n",
    "- `index()`     returns the index of the first matched item\n",
    "- `count()`     returns the number of occurrences of a specified value in a list\n",
    "\n",
    "Find length/max/min/sum:\n",
    "- `len()`       returns the number of elements in the list.\n",
    "- `min()`       returns the smallest element in the list.\n",
    "- `max()`       returns the largest element in the list.\n",
    "- `sum()`       returns the sum of all elements in the list.\n",
    "\n",
    "Create a copy:\n",
    "- `copy()`      returns a shallow copy of the list\n",
    "\n",
    "Sort/Reverse:\n",
    "- `sort()`      sort items in a list in ascending order\n",
    "- `reverse()`   reverse the order of items in the list"
   ]
  },
  {
   "cell_type": "markdown",
   "metadata": {},
   "source": [
    "##### `index()`\n",
    "Find the first occurrence of a specified value in a list. \n",
    "It returns the index of the element if found, otherwise it raises a **ValueError** if the element is not present in the list.\n",
    "\n",
    "Syntax: `list.index(element, start, end)`\n",
    "- `element`: The element to search for.\n",
    "- `start` (optional): The starting index from where to begin the search.\n",
    "- `end` (optional): The ending index where to end the search.\n"
   ]
  },
  {
   "cell_type": "code",
   "execution_count": 13,
   "metadata": {},
   "outputs": [
    {
     "name": "stdout",
     "output_type": "stream",
     "text": [
      "4\n"
     ]
    }
   ],
   "source": [
    "data = [6, 5, 7, 1, 9, 2]\n",
    "print(data.index(9))  #Find index of value 9 in the list. Output is 4"
   ]
  },
  {
   "cell_type": "markdown",
   "metadata": {},
   "source": [
    "##### `count()`\n",
    "Returns the number of occurrences of a specified value in a list\n",
    "Syntax: `count(value)`"
   ]
  },
  {
   "cell_type": "code",
   "execution_count": 2,
   "metadata": {},
   "outputs": [
    {
     "name": "stdout",
     "output_type": "stream",
     "text": [
      "2\n"
     ]
    }
   ],
   "source": [
    "data = [6, 5, 7, 1, 7, 2]\n",
    "print(data.count(7))"
   ]
  },
  {
   "cell_type": "markdown",
   "metadata": {},
   "source": [
    "##### `len()`, `min()`, `max()`, and `sum()`\n",
    "- `len()` returns the number of elements in the list.\n",
    "- `min()` returns the smallest element in the list.\n",
    "- `max()` returns the largest element in the list.\n",
    "- `sum()` returns the sum of all elements in the list."
   ]
  },
  {
   "cell_type": "code",
   "execution_count": null,
   "metadata": {},
   "outputs": [],
   "source": [
    "# len(), min(), max(), and sum()\n",
    "numbers = [1, 2, 3, 4, 5]\n",
    "\n",
    "print(len(numbers))  # Output: 5\n",
    "print(min(numbers))  # Output: 1\n",
    "print(max(numbers))  # Output: 5\n",
    "print(sum(numbers))  # Output: 15"
   ]
  },
  {
   "cell_type": "markdown",
   "metadata": {},
   "source": [
    "##### `copy()`\n",
    "Returns a shallow copy of the list\n",
    "\n",
    "A shallow copy means that the new list contains references to the same objects as the original list. If the list contains mutable objects, modifying those objects through the copy will affect the original list.\n",
    "\n",
    "Note: list and string are mutable objects, integers are not mutable objects (assigning new value for an int will create another object)"
   ]
  },
  {
   "cell_type": "code",
   "execution_count": 17,
   "metadata": {},
   "outputs": [
    {
     "name": "stdout",
     "output_type": "stream",
     "text": [
      "Memory address of original_list[0]:  3036340294272\n",
      "Memory address of shallow_copy[0]:   3036340294272\n",
      "Original List: [[99, 2, 3], [4, 5, 6], 7, 8]\n",
      "Shallow Copy: [[99, 2, 3], [4, 5, 6], 7, 8]\n"
     ]
    }
   ],
   "source": [
    "# Original list containing mutable objects (sub-lists)\n",
    "original_list = [[1, 2, 3], [4, 5, 6], 7, 8]\n",
    "\n",
    "# Creating a shallow copy of the original list\n",
    "shallow_copy = original_list.copy()\n",
    "\n",
    "# Modifying a mutable object within the shallow copy\n",
    "shallow_copy[0][0] = 99\n",
    "\n",
    "# Printing both lists to observe the effect\n",
    "print(\"Memory address of original_list[0]: \", id(original_list[0]))\n",
    "print(\"Memory address of shallow_copy[0]:  \", id(shallow_copy[0]))\n",
    "print(\"Original List:\", original_list)\n",
    "print(\"Shallow Copy:\", shallow_copy)"
   ]
  },
  {
   "cell_type": "markdown",
   "metadata": {},
   "source": [
    "##### `copy.deepcopy()`\n",
    "Creates a deep copy of a list (or any other object), meaning that all objects are recursively copied, including nested objects. \n",
    "\n",
    "This ensures that modifications to the copied list or its nested objects do not affect the original list."
   ]
  },
  {
   "cell_type": "code",
   "execution_count": 28,
   "metadata": {},
   "outputs": [
    {
     "name": "stdout",
     "output_type": "stream",
     "text": [
      "Memory address of original_list[0]:  3036319427200\n",
      "Memory address of shallow_copy[0]:   3036319422656\n",
      "Original List: [[1, 2, 3], [4, 5, 6], 7, 8]\n",
      "Shallow Copy: [[99, 2, 3], [4, 5, 6], 7, 8]\n"
     ]
    }
   ],
   "source": [
    "import copy\n",
    "\n",
    "# Original list containing mutable objects (sub-lists)\n",
    "original_list = [[1, 2, 3], [4, 5, 6], 7, 8]\n",
    "\n",
    "# Creating a deep copy of the original list\n",
    "deep_copy = copy.deepcopy(original_list)\n",
    "\n",
    "# Modifying a mutable object within the shallow copy\n",
    "deep_copy[0][0] = 99\n",
    "\n",
    "# Printing both lists to observe the effect\n",
    "print(\"Memory address of original_list[0]: \", id(original_list[0]))\n",
    "print(\"Memory address of shallow_copy[0]:  \", id(deep_copy[0]))\n",
    "print(\"Original List:\", original_list)\n",
    "print(\"Shallow Copy:\", deep_copy)"
   ]
  },
  {
   "cell_type": "markdown",
   "metadata": {},
   "source": [
    "##### `sort()` and `sorted()`:\n",
    "- `sort()` method sorts the list in place.\n",
    "- `sorted()` function returns a new sorted list."
   ]
  },
  {
   "cell_type": "code",
   "execution_count": 29,
   "metadata": {},
   "outputs": [
    {
     "name": "stdout",
     "output_type": "stream",
     "text": [
      "[1, 2, 5, 5, 6, 9]\n",
      "[1, 2, 5, 5, 6, 9]\n",
      "[5, 2, 9, 1, 5, 6]\n"
     ]
    }
   ],
   "source": [
    "# sort() and sorted()\n",
    "numbers = [5, 2, 9, 1, 5, 6]\n",
    "numbers.sort()\n",
    "print(numbers)  # Output: [1, 2, 5, 5, 6, 9]\n",
    "\n",
    "numbers = [5, 2, 9, 1, 5, 6]\n",
    "sorted_numbers = sorted(numbers)\n",
    "print(sorted_numbers)  # Output: [1, 2, 5, 5, 6, 9]\n",
    "print(numbers)  # Output: [5, 2, 9, 1, 5, 6]"
   ]
  },
  {
   "cell_type": "markdown",
   "metadata": {},
   "source": [
    "##### `reverse()` and `reversed()`:\n",
    "- `reverse()` method reverses the elements of the list in place.\n",
    "- `reversed()` function returns an iterator that accesses the given sequence in reverse order."
   ]
  },
  {
   "cell_type": "code",
   "execution_count": 30,
   "metadata": {},
   "outputs": [
    {
     "name": "stdout",
     "output_type": "stream",
     "text": [
      "[5, 4, 3, 2, 1]\n",
      "[5, 4, 3, 2, 1]\n"
     ]
    }
   ],
   "source": [
    "# reverse() and reversed()\n",
    "numbers = [1, 2, 3, 4, 5]\n",
    "numbers.reverse()\n",
    "print(numbers)  # Output: [5, 4, 3, 2, 1]\n",
    "\n",
    "numbers = [1, 2, 3, 4, 5]\n",
    "reversed_numbers = list(reversed(numbers))\n",
    "print(reversed_numbers)  # Output: [5, 4, 3, 2, 1]"
   ]
  },
  {
   "cell_type": "markdown",
   "metadata": {},
   "source": [
    "### List Operators"
   ]
  },
  {
   "cell_type": "markdown",
   "metadata": {},
   "source": [
    "##### Concatenation (+)\n",
    "Concatenates two lists into one."
   ]
  },
  {
   "cell_type": "code",
   "execution_count": 8,
   "metadata": {},
   "outputs": [
    {
     "name": "stdout",
     "output_type": "stream",
     "text": [
      "[1, 2, 3, 4, 5, 6]\n"
     ]
    }
   ],
   "source": [
    "list1 = [1, 2, 3]\n",
    "list2 = [4, 5, 6]\n",
    "result = list1 + list2\n",
    "print(result)  # Output: [1, 2, 3, 4, 5, 6]"
   ]
  },
  {
   "cell_type": "markdown",
   "metadata": {},
   "source": [
    "##### Repetition (*)\n",
    "Repeats the elements of a list a specified number of times."
   ]
  },
  {
   "cell_type": "code",
   "execution_count": 9,
   "metadata": {},
   "outputs": [
    {
     "name": "stdout",
     "output_type": "stream",
     "text": [
      "['a', 'b', 'c', 'a', 'b', 'c', 'a', 'b', 'c']\n"
     ]
    }
   ],
   "source": [
    "list1 = ['a', 'b', 'c']\n",
    "result = list1 * 3\n",
    "print(result)  # Output: ['a', 'b', 'c', 'a', 'b', 'c', 'a', 'b', 'c']"
   ]
  },
  {
   "cell_type": "markdown",
   "metadata": {},
   "source": [
    "##### Membership (in)\n",
    "Checks if an element is present in the list."
   ]
  },
  {
   "cell_type": "code",
   "execution_count": 10,
   "metadata": {},
   "outputs": [
    {
     "name": "stdout",
     "output_type": "stream",
     "text": [
      "True\n",
      "False\n"
     ]
    }
   ],
   "source": [
    "list1 = [1, 2, 3, 4, 5]\n",
    "print(3 in list1)  # Output: True\n",
    "print(6 in list1)  # Output: False"
   ]
  },
  {
   "cell_type": "markdown",
   "metadata": {},
   "source": [
    "### List Comprehensions\n",
    "\n",
    "List comprehensions provide a concise way to create lists.\n",
    "\n",
    "**Syntax**:\n",
    "- [ expression `for` item `in` iterable_object `if` condition ]\n",
    "- The condition is optional."
   ]
  },
  {
   "cell_type": "code",
   "execution_count": 27,
   "metadata": {},
   "outputs": [
    {
     "name": "stdout",
     "output_type": "stream",
     "text": [
      "[0, 1, 4, 9, 16, 25, 36, 49, 64, 81]\n",
      "[0, 40, 160, 360, 640]\n"
     ]
    }
   ],
   "source": [
    "# List Comprehensions\n",
    "list1 = [x**2   for x in range(10)]\n",
    "print(list1)  # Output: [0, 1, 4, 9, 16, 25, 36, 49, 64, 81]\n",
    "\n",
    "list2 = [x*10   for x in list1   if x % 2 == 0]\n",
    "print(list2)  # Output: [0,   40,    160,    360,    640]"
   ]
  },
  {
   "cell_type": "markdown",
   "metadata": {},
   "source": [
    "### Looping through Lists"
   ]
  },
  {
   "cell_type": "markdown",
   "metadata": {},
   "source": [
    "##### Looping by value through a list\n",
    "\n",
    "Syntax:  for `value` in `list`"
   ]
  },
  {
   "cell_type": "code",
   "execution_count": 19,
   "metadata": {},
   "outputs": [
    {
     "name": "stdout",
     "output_type": "stream",
     "text": [
      "apple\n",
      "banana\n",
      "cherry\n",
      "date\n"
     ]
    }
   ],
   "source": [
    "fruits = ['apple', 'banana', 'cherry', 'date']\n",
    "\n",
    "# Looping by value through a list\n",
    "for fruit in fruits:\n",
    "    print(fruit)"
   ]
  },
  {
   "cell_type": "markdown",
   "metadata": {},
   "source": [
    "##### Looping by index through a list\n",
    "Syntax:  for `index` in `range(len(list)`"
   ]
  },
  {
   "cell_type": "code",
   "execution_count": 23,
   "metadata": {},
   "outputs": [
    {
     "name": "stdout",
     "output_type": "stream",
     "text": [
      "0 apple\n",
      "1 banana\n",
      "2 cherry\n",
      "3 date\n"
     ]
    }
   ],
   "source": [
    "fruits = ['apple', 'banana', 'cherry', 'date']\n",
    "\n",
    "# Looping by index through a list\n",
    "for index in range(len(fruits)):\n",
    "    print(index, fruits[index])"
   ]
  },
  {
   "cell_type": "markdown",
   "metadata": {},
   "source": [
    "### Enumerate\n",
    "Allow to iterate over a list with access to both the index and the value at the same time.\n",
    "\n",
    "Note: It adds a counter to an iterable, such as a list, and returns an enumerate object as a list of tuples (a pair of an index and the corresponding element). \n",
    "\n",
    "Syntax:  `enumerate(iterable, start=0)`\n",
    "\n",
    "`iterable`: The list (or any other iterable) you want to enumerate.\n",
    "\n",
    "`start` (optional): The starting index of the counter. Default is 0."
   ]
  },
  {
   "cell_type": "code",
   "execution_count": 34,
   "metadata": {},
   "outputs": [
    {
     "name": "stdout",
     "output_type": "stream",
     "text": [
      "0 apple\n",
      "1 banana\n",
      "2 cherry\n",
      "3 date\n"
     ]
    }
   ],
   "source": [
    "# Creating a list\n",
    "fruits = ['apple', 'banana', 'cherry', 'date']\n",
    "\n",
    "# Using enumerate to get index and value\n",
    "for index, fruit in enumerate(fruits):\n",
    "    print(index, fruit)"
   ]
  },
  {
   "cell_type": "markdown",
   "metadata": {},
   "source": [
    "### ZIP\n",
    "\n",
    "Combines multiple iterables (such as lists) into a single iterable of tuples, with each tuple containing elements from all original iterables at corresponding positions, facilitating parallel iteration.\n",
    "\n",
    "Syntax:   `zip`(iterable1, iterable2 [,...])\n",
    "\n",
    "*Note: if the length of the iterables are not equal, it will take the smallest length among them*"
   ]
  },
  {
   "cell_type": "code",
   "execution_count": 33,
   "metadata": {},
   "outputs": [
    {
     "name": "stdout",
     "output_type": "stream",
     "text": [
      "[(1, 'a'), (2, 'b'), (3, 'c')]\n",
      "1 a\n",
      "2 b\n",
      "3 c\n",
      "[(10, 'x'), (20, 'y'), (30, 'z')]\n",
      "(10, 20, 30)\n",
      "('x', 'y', 'z')\n"
     ]
    }
   ],
   "source": [
    "list1 = [1,   2,    3]\n",
    "list2 = ['a', 'b', 'c', 'd', 'e']\n",
    "\n",
    "# Create a zipped list (of tuples)\n",
    "zipped = zip(list1, list2)\n",
    "print(list(zipped))  # Output: [(1, 'a'), (2, 'b')]\n",
    "\n",
    "# Parallel iteration through a zipped list\n",
    "for num, char in zip(list1, list2):\n",
    "    print(num, char)\n",
    "\n",
    "# Unzipping a list of tuples\n",
    "zipped2 = [(10, 'x'), (20, 'y'), (30, 'z')]\n",
    "\n",
    "listA, listB = zip(*zipped2)\n",
    "print(zipped2)\n",
    "print(listA)  # Output: (1, 2, 3)\n",
    "print(listB)  # Output: ('a', 'b', 'c')"
   ]
  },
  {
   "cell_type": "markdown",
   "metadata": {},
   "source": [
    "### Conclusion\n",
    "Lists are a fundamental data structure in Python. Understanding how to create, manipulate, and use lists is essential for any Python programmer."
   ]
  }
 ],
 "metadata": {
  "kernelspec": {
   "display_name": "Python 3",
   "language": "python",
   "name": "python3"
  },
  "language_info": {
   "codemirror_mode": {
    "name": "ipython",
    "version": 3
   },
   "file_extension": ".py",
   "mimetype": "text/x-python",
   "name": "python",
   "nbconvert_exporter": "python",
   "pygments_lexer": "ipython3",
   "version": "3.10.6"
  }
 },
 "nbformat": 4,
 "nbformat_minor": 4
}
