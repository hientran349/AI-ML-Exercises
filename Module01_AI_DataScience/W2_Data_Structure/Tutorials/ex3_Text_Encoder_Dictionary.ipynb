{
 "cells": [
  {
   "cell_type": "code",
   "execution_count": 3,
   "metadata": {},
   "outputs": [
    {
     "name": "stdout",
     "output_type": "stream",
     "text": [
      "Python is a high-level, interpreted, general-purpose programming language. Its design philosophy emphasizes code readability with the use of significant indentation. Python is dynamically-typed and garbage-collected.  It supports multiple programming paradigms, including structured, object-oriented and functional programming.\n"
     ]
    }
   ],
   "source": [
    "# Open file to read\n",
    "\n",
    "a_file = open('data.txt', 'r')\n",
    "data = a_file.read()\n",
    "a_file.close()\n",
    "\n",
    "print(data)"
   ]
  },
  {
   "cell_type": "code",
   "execution_count": 4,
   "metadata": {},
   "outputs": [
    {
     "name": "stdout",
     "output_type": "stream",
     "text": [
      "['python', 'is', 'a', 'high', 'level', 'interpreted', 'general', 'purpose', 'programming', 'language', 'its', 'design', 'philosophy', 'emphasizes', 'code', 'readability', 'with', 'the', 'use', 'of', 'significant', 'indentation', 'python', 'is', 'dynamically', 'typed', 'and', 'garbage', 'collected', 'it', 'supports', 'multiple', 'programming', 'paradigms', 'including', 'structured', 'object', 'oriented', 'and', 'functional', 'programming']\n"
     ]
    }
   ],
   "source": [
    "# Preprocessing data\n",
    "\n",
    "def standardlize(data):\n",
    "    data = data.replace(\".\", ' ')\n",
    "    data = data.replace(\",\", ' ')\n",
    "    data = data.replace(\"-\", ' ')\n",
    "    data = data.replace(\":\", ' ')\n",
    "    data = data.lower()     # Convert all text to lowercase\n",
    "    data = data.split()     # Split words by space\n",
    "    return data\n",
    "\n",
    "data = standardlize(data)\n",
    "print(data)"
   ]
  },
  {
   "cell_type": "code",
   "execution_count": 9,
   "metadata": {},
   "outputs": [
    {
     "name": "stdout",
     "output_type": "stream",
     "text": [
      "{'multiple': 0, 'including': 1, 'design': 2, 'oriented': 3, 'and': 4, 'a': 5, 'object': 6, 'garbage': 7, 'supports': 8, 'high': 9, 'significant': 10, 'code': 11, 'the': 12, 'with': 13, 'it': 14, 'structured': 15, 'dynamically': 16, 'is': 17, 'of': 18, 'use': 19, 'paradigms': 20, 'general': 21, 'philosophy': 22, 'indentation': 23, 'interpreted': 24, 'language': 25, 'purpose': 26, 'typed': 27, 'python': 28, 'readability': 29, 'collected': 30, 'level': 31, 'functional': 32, 'programming': 33, 'its': 34, 'emphasizes': 35}\n"
     ]
    }
   ],
   "source": [
    "# Vectorlizing data (make it become dictionary)\n",
    "\n",
    "def vectorlization(data):\n",
    "    data = set(data) # Convert to set to remove duplicate values\n",
    "    return {value: index  for index, value in enumerate(data)}  # Convert to a dictionary\n",
    "\n",
    "dictionary = vectorlization(data)\n",
    "print(data)"
   ]
  },
  {
   "cell_type": "code",
   "execution_count": 10,
   "metadata": {},
   "outputs": [
    {
     "name": "stdout",
     "output_type": "stream",
     "text": [
      "['python', 'is', 'a', 'programming', 'language']\n",
      "[28, 17, 5, 33, 25]\n"
     ]
    }
   ],
   "source": [
    "# Now we can encode text using the ditionary\n",
    "text = \"python is a programming language\"\n",
    "text_words = standardlize(text)\n",
    "print(text_words)\n",
    "\n",
    "text_encoded = [dictionary[word] for word in text_words ]\n",
    "print(text_encoded)"
   ]
  }
 ],
 "metadata": {
  "kernelspec": {
   "display_name": "Python 3",
   "language": "python",
   "name": "python3"
  },
  "language_info": {
   "codemirror_mode": {
    "name": "ipython",
    "version": 3
   },
   "file_extension": ".py",
   "mimetype": "text/x-python",
   "name": "python",
   "nbconvert_exporter": "python",
   "pygments_lexer": "ipython3",
   "version": "3.10.6"
  }
 },
 "nbformat": 4,
 "nbformat_minor": 2
}
