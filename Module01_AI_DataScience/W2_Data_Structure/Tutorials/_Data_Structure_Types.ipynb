{
 "cells": [
  {
   "cell_type": "markdown",
   "metadata": {},
   "source": [
    "## Print out built-in Functions"
   ]
  },
  {
   "cell_type": "code",
   "execution_count": 8,
   "metadata": {},
   "outputs": [
    {
     "name": "stdout",
     "output_type": "stream",
     "text": [
      "['sort', 'reverse', 'remove', 'pop', 'insert', 'index', 'extend', 'count', 'copy', 'clear', 'append', '__subclasshook__', '__str__', '__sizeof__', '__setitem__', '__setattr__', '__rmul__', '__reversed__', '__repr__', '__reduce_ex__', '__reduce__', '__new__', '__ne__', '__mul__', '__lt__', '__len__', '__le__', '__iter__', '__init_subclass__', '__init__', '__imul__', '__iadd__', '__hash__', '__gt__', '__getitem__', '__getattribute__', '__ge__', '__format__', '__eq__', '__doc__', '__dir__', '__delitem__', '__delattr__', '__contains__', '__class_getitem__', '__class__', '__add__']\n",
      "['index', 'count', '__subclasshook__', '__str__', '__sizeof__', '__setattr__', '__rmul__', '__repr__', '__reduce_ex__', '__reduce__', '__new__', '__ne__', '__mul__', '__lt__', '__len__', '__le__', '__iter__', '__init_subclass__', '__init__', '__hash__', '__gt__', '__getnewargs__', '__getitem__', '__getattribute__', '__ge__', '__format__', '__eq__', '__doc__', '__dir__', '__delattr__', '__contains__', '__class_getitem__', '__class__', '__add__']\n"
     ]
    }
   ],
   "source": [
    "l = list()\n",
    "supported_functions = dir(l)\n",
    "supported_functions.reverse()\n",
    "print(supported_functions)\n",
    "\n",
    "\n",
    "t = tuple()\n",
    "supported_functions = dir(t)\n",
    "supported_functions.reverse()\n",
    "print(supported_functions)"
   ]
  },
  {
   "cell_type": "markdown",
   "metadata": {},
   "source": [
    "## Comparison of Python Data Structures"
   ]
  },
  {
   "cell_type": "markdown",
   "metadata": {},
   "source": [
    "| Feature          | List        | Tuple       | String      | Set         | Dictionary  |\n",
    "|------------------|-------------|-------------|-------------|-------------|-------------|\n",
    "| Mutable          | Yes         | **NO**          | **NO**           | Yes         | Yes         |\n",
    "| Ordered          | Yes         | Yes         | Yes         | **NO**           | **NO**           |\n",
    "| Indexable        | Yes         | Yes         | Yes         | **NO**           | **NO**           |\n",
    "| Allows Duplicates| Yes         | Yes         | Yes         | **NO**           | Keys: **NO** , Values: Yes |\n",
    "| Heterogeneous    | Yes         | Yes         | **NO**           | Yes         | Keys: **NO** , Values: Yes |\n",
    "| Syntax           | `[ ]`       | `( )`       | `' '` or `\" \"` | `{ }` or `set()` | `{ }` or `dict()` |\n",
    "\n",
    "Heterogeneous: elements in the collection can be of different types"
   ]
  },
  {
   "cell_type": "markdown",
   "metadata": {},
   "source": [
    "### Examples"
   ]
  },
  {
   "cell_type": "markdown",
   "metadata": {},
   "source": [
    "#### List"
   ]
  },
  {
   "cell_type": "code",
   "execution_count": null,
   "metadata": {},
   "outputs": [],
   "source": [
    "# List: Mutable, Ordered, Indexable, Allows Duplicates, Heterogeneous\n",
    "my_list = [1, 2, 2, 3, 'apple', 4.5]\n",
    "print(my_list)\n",
    "my_list[0] = 'banana'  # Modifying an element\n",
    "print(my_list)"
   ]
  },
  {
   "cell_type": "markdown",
   "metadata": {},
   "source": [
    "#### Tuple"
   ]
  },
  {
   "cell_type": "code",
   "execution_count": null,
   "metadata": {},
   "outputs": [],
   "source": [
    "# Tuple: Immutable, Ordered, Indexable, Allows Duplicates, Heterogeneous\n",
    "my_tuple = (1, 2, 2, 3, 'apple', 4.5)\n",
    "print(my_tuple)\n",
    "# my_tuple[0] = 'banana'  # This will raise an error as tuples are immutable"
   ]
  },
  {
   "cell_type": "markdown",
   "metadata": {},
   "source": [
    "#### String"
   ]
  },
  {
   "cell_type": "code",
   "execution_count": null,
   "metadata": {},
   "outputs": [],
   "source": [
    "# String: Immutable, Ordered, Indexable, Allows Duplicates, Heterogeneous: NO (elements must be characters)\n",
    "my_string = 'hello world'\n",
    "print(my_string)\n",
    "# my_string[0] = 'H'  # This will raise an error as strings are immutable"
   ]
  },
  {
   "cell_type": "markdown",
   "metadata": {},
   "source": [
    "#### Set"
   ]
  },
  {
   "cell_type": "code",
   "execution_count": null,
   "metadata": {},
   "outputs": [],
   "source": [
    "# Set: Mutable, Unordered, Not Indexable, No Duplicates, Heterogeneous\n",
    "my_set = {1, 2, 2, 3, 'apple', 4.5}\n",
    "print(my_set)\n",
    "my_set.add('banana')  # Adding an element\n",
    "print(my_set)"
   ]
  },
  {
   "cell_type": "markdown",
   "metadata": {},
   "source": [
    "#### Dictionary"
   ]
  },
  {
   "cell_type": "code",
   "execution_count": null,
   "metadata": {},
   "outputs": [],
   "source": [
    "# Dictionary: Mutable, Unordered, Not Indexable, No Duplicate Keys, Heterogeneous\n",
    "my_dict = {'name': 'Alice', 'age': 25, 'city': 'New York'}\n",
    "print(my_dict)\n",
    "my_dict['age'] = 26  # Modifying a value\n",
    "print(my_dict)\n",
    "my_dict['country'] = 'USA'  # Adding a new key-value pair\n",
    "print(my_dict)"
   ]
  },
  {
   "cell_type": "markdown",
   "metadata": {},
   "source": [
    "### Conclusion\n",
    "This table and these examples illustrate the key differences and use cases for Python's built-in data structures: lists, tuples, strings, sets, and dictionaries. Understanding these differences will help you choose the right data structure for your specific needs."
   ]
  }
 ],
 "metadata": {
  "kernelspec": {
   "display_name": "Python 3",
   "language": "python",
   "name": "python3"
  },
  "language_info": {
   "codemirror_mode": {
    "name": "ipython",
    "version": 3
   },
   "file_extension": ".py",
   "mimetype": "text/x-python",
   "name": "python",
   "nbconvert_exporter": "python",
   "pygments_lexer": "ipython3",
   "version": "3.10.6"
  }
 },
 "nbformat": 4,
 "nbformat_minor": 4
}
