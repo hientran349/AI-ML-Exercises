{
 "cells": [
  {
   "cell_type": "markdown",
   "metadata": {},
   "source": [
    "## Tutorial on Tuples in Python"
   ]
  },
  {
   "cell_type": "markdown",
   "metadata": {},
   "source": [
    "### Introduction to Tuples\n",
    "A tuple in Python is an ordered collection of items. Tuples are immutable, meaning their elements cannot be changed after they are created. Tuples can hold elements of different data types.\n",
    "\n",
    "**Tuples are very similar to Lists, except that tuples are immutable, and less built-in methods supported.**"
   ]
  },
  {
   "cell_type": "markdown",
   "metadata": {},
   "source": [
    "### Creating Tuples"
   ]
  },
  {
   "cell_type": "markdown",
   "metadata": {},
   "source": [
    "**Syntax**:\n",
    "- Tuples are created using parentheses `()` or without any parentheses (but not recommended).\n",
    "- Elements inside the tuple are separated by commas `,`.\n",
    "- A tuple with a single element requires a comma after the element."
   ]
  },
  {
   "cell_type": "code",
   "execution_count": 15,
   "metadata": {},
   "outputs": [
    {
     "name": "stdout",
     "output_type": "stream",
     "text": [
      "(1, 2, 3, 4, 5)\n",
      "('apple', 'banana', 'cherry')\n",
      "(1, 'apple', 3.5, True)\n",
      "<class 'tuple'> (5,)\n",
      "<class 'int'> 5\n",
      "(1, 2, 4, 5)\n"
     ]
    }
   ],
   "source": [
    "# Example\n",
    "tuple1 = (1, 2, 3, 4, 5)\n",
    "print(tuple1)\n",
    "\n",
    "tuple2 = ('apple', 'banana', 'cherry')\n",
    "print(tuple2)\n",
    "\n",
    "tuple3 = (1, 'apple', 3.5, True)\n",
    "print(tuple3)\n",
    "\n",
    "\n",
    "\n",
    "#Tuple with one element\n",
    "tuple4 = (5,)\n",
    "print(type(tuple4), tuple4)\n",
    "\n",
    "#This is not a tuple\n",
    "var = (5)\n",
    "print(type(var), var)\n",
    "\n",
    "\n",
    "# Special\n",
    "tupleX = 1, 2, 4, 5\n",
    "print(tupleX)"
   ]
  },
  {
   "cell_type": "markdown",
   "metadata": {},
   "source": [
    "### Accessing Elements in a Tuple"
   ]
  },
  {
   "cell_type": "markdown",
   "metadata": {},
   "source": [
    "**Syntax**:\n",
    "- Elements in a tuple can be accessed using indexing.\n",
    "- Positive indexing starts from 0.\n",
    "- Negative indexing starts from -1."
   ]
  },
  {
   "cell_type": "code",
   "execution_count": null,
   "metadata": {},
   "outputs": [],
   "source": [
    "# Example Tuple\n",
    "fruits = ('apple', 'banana', 'cherry')\n",
    "\n",
    "# Positive indexing\n",
    "print(fruits[0])  # Output: 'apple'\n",
    "print(fruits[1])  # Output: 'banana'\n",
    "\n",
    "# Negative indexing\n",
    "print(fruits[-1])  # Output: 'cherry'\n",
    "print(fruits[-2])  # Output: 'banana'"
   ]
  },
  {
   "cell_type": "markdown",
   "metadata": {},
   "source": [
    "#### BENEFIT OF TUPLE\n",
    "When we return data from a function as a tuple, it will help to protect data (not allow to change)."
   ]
  },
  {
   "cell_type": "code",
   "execution_count": 9,
   "metadata": {},
   "outputs": [
    {
     "name": "stdout",
     "output_type": "stream",
     "text": [
      "<class 'list'> [4, 5]\n",
      "<class 'tuple'> ('Hello', 123)\n"
     ]
    }
   ],
   "source": [
    "def myFunction():\n",
    "    return (\"Hello\", 123)\n",
    "\n",
    "# data = myFunction()\n",
    "# data[0] = \"abc\"     #Error Here\n",
    "\n",
    "data2 = [1, 2, 3]\n",
    "data2 = [4, 5]\n",
    "print(type(data2), data2)\n",
    "\n",
    "data2 = myFunction()\n",
    "print(type(data2), data2)\n",
    "#data2[0] = \"abc\"     #Error Here"
   ]
  },
  {
   "cell_type": "markdown",
   "metadata": {},
   "source": [
    "### Slicing Tuples"
   ]
  },
  {
   "cell_type": "markdown",
   "metadata": {},
   "source": [
    "**Syntax**:\n",
    "- Slicing allows you to get a subset of the tuple.\n",
    "- The syntax is `tuple[start:stop:step]`.\n",
    "- `start` is the starting index, `stop` is the stopping index (exclusive), and `step` is the step value."
   ]
  },
  {
   "cell_type": "code",
   "execution_count": null,
   "metadata": {},
   "outputs": [],
   "source": [
    "# Example Tuple\n",
    "numbers = (0, 1, 2, 3, 4, 5, 6, 7, 8, 9)\n",
    "\n",
    "# Slicing\n",
    "print(numbers[1:5])   # Output: (1, 2, 3, 4)\n",
    "print(numbers[::2])   # Output: (0, 2, 4, 6, 8)\n",
    "print(numbers[::-1])  # Output: (9, 8, 7, 6, 5, 4, 3, 2, 1, 0)"
   ]
  },
  {
   "cell_type": "markdown",
   "metadata": {},
   "source": [
    "### Modifying Tuples"
   ]
  },
  {
   "cell_type": "markdown",
   "metadata": {},
   "source": [
    "Tuples are immutable, so their elements cannot be changed after they are created. However, you can create new tuples based on existing ones."
   ]
  },
  {
   "cell_type": "markdown",
   "metadata": {},
   "source": [
    "**Concatenation**:\n",
    "- You can concatenate tuples using the `+` operator."
   ]
  },
  {
   "cell_type": "code",
   "execution_count": null,
   "metadata": {},
   "outputs": [],
   "source": [
    "# Concatenation\n",
    "tuple1 = (1, 2, 3)\n",
    "tuple2 = (4, 5, 6)\n",
    "result = tuple1 + tuple2\n",
    "print(result)  # Output: (1, 2, 3, 4, 5, 6)"
   ]
  },
  {
   "cell_type": "markdown",
   "metadata": {},
   "source": [
    "**Repetition**:\n",
    "- You can repeat tuples using the `*` operator."
   ]
  },
  {
   "cell_type": "code",
   "execution_count": null,
   "metadata": {},
   "outputs": [],
   "source": [
    "# Repetition\n",
    "tuple1 = (1, 2, 3)\n",
    "result = tuple1 * 3\n",
    "print(result)  # Output: (1, 2, 3, 1, 2, 3, 1, 2, 3)"
   ]
  },
  {
   "cell_type": "markdown",
   "metadata": {},
   "source": [
    "### Tuple Methods"
   ]
  },
  {
   "cell_type": "markdown",
   "metadata": {},
   "source": [
    "Tuples support only two methods: `count()` and `index()`."
   ]
  },
  {
   "cell_type": "markdown",
   "metadata": {},
   "source": [
    "**`count()`**:\n",
    "- Returns the number of times a specified **_value_** occurs in a tuple."
   ]
  },
  {
   "cell_type": "code",
   "execution_count": null,
   "metadata": {},
   "outputs": [],
   "source": [
    "# count()\n",
    "numbers = (1, 2, 3, 1, 1, 4, 5)\n",
    "count_1 = numbers.count(1)\n",
    "print(count_1)  # Output: 3"
   ]
  },
  {
   "cell_type": "markdown",
   "metadata": {},
   "source": [
    "**`index()`**:\n",
    "- Returns the index of the first occurrence of a specified **_value_**."
   ]
  },
  {
   "cell_type": "code",
   "execution_count": null,
   "metadata": {},
   "outputs": [],
   "source": [
    "# index()\n",
    "numbers = (1, 2, 3, 4, 5)\n",
    "index_3 = numbers.index(3)\n",
    "print(index_3)  # Output: 2"
   ]
  },
  {
   "cell_type": "markdown",
   "metadata": {},
   "source": [
    "### External Methods can be applied on tuple\n",
    "- len (tuple_var)\n",
    "- min (tuple_var)\n",
    "- max (tuple_var)\n",
    "- sum (tuple_var)\n",
    "- sort (tuple_var)\n",
    "- for x, y in zip(tuple_var1, tuple_var2).    \n",
    "  - tuple_var1, tuple_var2 should have the same size. Otherwise, it will take the smallest size"
   ]
  },
  {
   "cell_type": "code",
   "execution_count": 16,
   "metadata": {},
   "outputs": [
    {
     "name": "stdout",
     "output_type": "stream",
     "text": [
      "1 a\n",
      "2 b\n",
      "3 c\n"
     ]
    }
   ],
   "source": [
    "tuple1 = (1, 2, 3, 4, 5)\n",
    "tuple2 = ('a', 'b', 'c')\n",
    "\n",
    "for num, ch in zip (tuple1, tuple2):\n",
    "    print(num, ch)"
   ]
  },
  {
   "cell_type": "markdown",
   "metadata": {},
   "source": [
    "### Unpacking Tuples"
   ]
  },
  {
   "cell_type": "markdown",
   "metadata": {},
   "source": [
    "You can unpack the elements of a tuple into variables."
   ]
  },
  {
   "cell_type": "code",
   "execution_count": 10,
   "metadata": {},
   "outputs": [
    {
     "name": "stdout",
     "output_type": "stream",
     "text": [
      "1\n",
      "2\n",
      "3\n",
      "(1, 2, 3)\n"
     ]
    }
   ],
   "source": [
    "# Unpacking Tuples\n",
    "tuple1 = (1, 2, 3)\n",
    "a, b, c = tuple1\n",
    "print(a)  # Output: 1\n",
    "print(b)  # Output: 2\n",
    "print(c)  # Output: 3\n",
    "\n",
    "print(tuple1)"
   ]
  },
  {
   "cell_type": "markdown",
   "metadata": {},
   "source": [
    "### Example: Swap using tuple\n",
    "\n"
   ]
  },
  {
   "cell_type": "code",
   "execution_count": 20,
   "metadata": {},
   "outputs": [
    {
     "name": "stdout",
     "output_type": "stream",
     "text": [
      "20 10\n"
     ]
    }
   ],
   "source": [
    "def swap(v1, v2):\n",
    "    (v1, v2) = (v2, v1)\n",
    "    return (v1, v2)\n",
    "\n",
    "v1 = 10\n",
    "v2 = 20\n",
    "(v1, v2) = swap(v1, v2)\n",
    "(v1, v2) = (v2, v1)  #Same as above\n",
    "\n",
    "print(v1, v2)"
   ]
  },
  {
   "cell_type": "markdown",
   "metadata": {},
   "source": [
    "### Looping through Tuples"
   ]
  },
  {
   "cell_type": "markdown",
   "metadata": {},
   "source": [
    "You can loop through the elements of a tuple using a `for` loop."
   ]
  },
  {
   "cell_type": "code",
   "execution_count": null,
   "metadata": {},
   "outputs": [],
   "source": [
    "# Looping through a tuple\n",
    "fruits = ('apple', 'banana', 'cherry')\n",
    "for fruit in fruits:\n",
    "    print(fruit)"
   ]
  },
  {
   "cell_type": "markdown",
   "metadata": {},
   "source": [
    "### Tuple Comprehensions\n",
    "Tuple comprehensions are not supported, but you can use list comprehensions and convert the result to a tuple."
   ]
  },
  {
   "cell_type": "code",
   "execution_count": null,
   "metadata": {},
   "outputs": [],
   "source": [
    "# Tuple Comprehensions\n",
    "numbers = (1, 2, 3, 4, 5)\n",
    "squares = tuple(x**2 for x in numbers)\n",
    "print(squares)  # Output: (1, 4, 9, 16, 25)"
   ]
  },
  {
   "cell_type": "markdown",
   "metadata": {},
   "source": [
    "### CONVERT LIST <-> TUPLE"
   ]
  },
  {
   "cell_type": "code",
   "execution_count": 23,
   "metadata": {},
   "outputs": [
    {
     "name": "stdout",
     "output_type": "stream",
     "text": [
      "<class 'tuple'> (3, 4, 5, 6, 7)\n",
      "<class 'list'> ['Hello', 343, '123']\n"
     ]
    }
   ],
   "source": [
    "aList = [3, 4, 5, 6, 7]\n",
    "aTuple = tuple(aList)\n",
    "print(type(aTuple), aTuple)\n",
    "\n",
    "tuple2 = (\"Hello\", 343, \"123\")\n",
    "list2 = list(tuple2)\n",
    "print(type(list2), list2)"
   ]
  },
  {
   "cell_type": "markdown",
   "metadata": {},
   "source": [
    "### Conclusion\n",
    "Tuples are a fundamental data structure in Python. Understanding how to create, manipulate, and use tuples is essential for any Python programmer."
   ]
  }
 ],
 "metadata": {
  "kernelspec": {
   "display_name": "Python 3",
   "language": "python",
   "name": "python3"
  },
  "language_info": {
   "codemirror_mode": {
    "name": "ipython",
    "version": 3
   },
   "file_extension": ".py",
   "mimetype": "text/x-python",
   "name": "python",
   "nbconvert_exporter": "python",
   "pygments_lexer": "ipython3",
   "version": "3.10.6"
  }
 },
 "nbformat": 4,
 "nbformat_minor": 4
}
