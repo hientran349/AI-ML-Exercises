{
 "cells": [
  {
   "cell_type": "code",
   "execution_count": 1,
   "metadata": {},
   "outputs": [
    {
     "name": "stdout",
     "output_type": "stream",
     "text": [
      "True\n"
     ]
    }
   ],
   "source": [
    "def check_the_number(N):\n",
    "    list_of_numbers = []\n",
    "    result = \"\"\n",
    "    \n",
    "    for i in range(1, 5):\n",
    "        list_of_numbers.append(i)  # Corrected to append i to list_of_numbers\n",
    "\n",
    "        if N in list_of_numbers:\n",
    "            result = \"True\"\n",
    "\n",
    "        if N not in list_of_numbers:\n",
    "            result = \"False\"\n",
    "\n",
    "    return result\n",
    "\n",
    "# Test cases\n",
    "assert check_the_number(7) == \"False\"\n",
    "N = 2\n",
    "print(check_the_number(N))  # Output: \"True\"\n"
   ]
  }
 ],
 "metadata": {
  "kernelspec": {
   "display_name": "Python 3",
   "language": "python",
   "name": "python3"
  },
  "language_info": {
   "codemirror_mode": {
    "name": "ipython",
    "version": 3
   },
   "file_extension": ".py",
   "mimetype": "text/x-python",
   "name": "python",
   "nbconvert_exporter": "python",
   "pygments_lexer": "ipython3",
   "version": "3.10.6"
  }
 },
 "nbformat": 4,
 "nbformat_minor": 2
}
