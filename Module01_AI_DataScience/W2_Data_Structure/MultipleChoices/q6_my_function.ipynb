{
 "cells": [
  {
   "cell_type": "code",
   "execution_count": 1,
   "metadata": {},
   "outputs": [
    {
     "name": "stdout",
     "output_type": "stream",
     "text": [
      "[2, 2, 2, 1, 1]\n"
     ]
    }
   ],
   "source": [
    "def my_function(data, max_value, min_value):\n",
    "    result = []\n",
    "    for i in data:\n",
    "        if i < min_value:\n",
    "            result.append(min_value)\n",
    "        elif i > max_value:\n",
    "            result.append(max_value)\n",
    "        else:\n",
    "            result.append(i)\n",
    "    return result\n",
    "\n",
    "# Test case\n",
    "my_list = [5, 2, 5, 0, 1]\n",
    "max_value = 1\n",
    "min_value = 0\n",
    "assert my_function(max_value=max_value, min_value=min_value, data=my_list) == [1, 1, 1, 0, 1]\n",
    "\n",
    "my_list = [10, 2, 5, 0, 1]\n",
    "max_value = 2\n",
    "min_value = 1\n",
    "print(my_function(max_value=max_value, min_value=min_value, data=my_list))  # Output: [2, 2, 2, 1, 1]\n"
   ]
  }
 ],
 "metadata": {
  "kernelspec": {
   "display_name": "Python 3",
   "language": "python",
   "name": "python3"
  },
  "language_info": {
   "codemirror_mode": {
    "name": "ipython",
    "version": 3
   },
   "file_extension": ".py",
   "mimetype": "text/x-python",
   "name": "python",
   "nbconvert_exporter": "python",
   "pygments_lexer": "ipython3",
   "version": "3.10.6"
  }
 },
 "nbformat": 4,
 "nbformat_minor": 2
}
