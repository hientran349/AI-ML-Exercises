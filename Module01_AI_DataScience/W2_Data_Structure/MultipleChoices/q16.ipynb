{
 "cells": [
  {
   "cell_type": "code",
   "execution_count": 6,
   "metadata": {},
   "outputs": [
    {
     "name": "stdout",
     "output_type": "stream",
     "text": [
      "[9, 8, 1]\n"
     ]
    }
   ],
   "source": [
    "# def function_helper(x, data):\n",
    "#     for i in data:\n",
    "#         if x == i:\n",
    "#             return 0\n",
    "#     return 1\n",
    "\n",
    "# def my_function(data):\n",
    "#     res = []\n",
    "#     for i in data:\n",
    "#         if function_helper(i, res):\n",
    "#             res.append(i)\n",
    "#     return res\n",
    "\n",
    "\n",
    "def my_function(data):\n",
    "    newdata = []\n",
    "    for value in data:\n",
    "        if value not in newdata:\n",
    "            newdata.append(value)\n",
    "    return newdata\n",
    "\n",
    "# Test cases\n",
    "lst = [10, 10, 9, 7, 7]\n",
    "assert my_function(lst) == [10, 9, 7]\n",
    "\n",
    "lst = [9, 9, 8, 1, 1]\n",
    "print(my_function(lst))  # Output: [9, 8, 1]"
   ]
  }
 ],
 "metadata": {
  "kernelspec": {
   "display_name": "Python 3",
   "language": "python",
   "name": "python3"
  },
  "language_info": {
   "codemirror_mode": {
    "name": "ipython",
    "version": 3
   },
   "file_extension": ".py",
   "mimetype": "text/x-python",
   "name": "python",
   "nbconvert_exporter": "python",
   "pygments_lexer": "ipython3",
   "version": "3.10.6"
  }
 },
 "nbformat": 4,
 "nbformat_minor": 2
}
