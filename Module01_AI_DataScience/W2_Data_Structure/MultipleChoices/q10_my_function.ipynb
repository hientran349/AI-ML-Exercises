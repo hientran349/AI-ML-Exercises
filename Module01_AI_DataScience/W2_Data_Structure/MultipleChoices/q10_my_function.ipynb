{
 "cells": [
  {
   "cell_type": "code",
   "execution_count": 6,
   "metadata": {},
   "outputs": [
    {
     "name": "stdout",
     "output_type": "stream",
     "text": [
      "False\n"
     ]
    }
   ],
   "source": [
    "def My_function(integers, number = 1):\n",
    "    return [number == value   for value in integers]\n",
    "\n",
    "# Test cases\n",
    "my_list = [1, 3, 9, 4]\n",
    "assert My_function(my_list)[-1] == False\n",
    "\n",
    "my_list = [1, 2, 3, 4]\n",
    "print( My_function(my_list)[2] )  # Output: False\n"
   ]
  }
 ],
 "metadata": {
  "kernelspec": {
   "display_name": "Python 3",
   "language": "python",
   "name": "python3"
  },
  "language_info": {
   "codemirror_mode": {
    "name": "ipython",
    "version": 3
   },
   "file_extension": ".py",
   "mimetype": "text/x-python",
   "name": "python",
   "nbconvert_exporter": "python",
   "pygments_lexer": "ipython3",
   "version": "3.10.6"
  }
 },
 "nbformat": 4,
 "nbformat_minor": 2
}
