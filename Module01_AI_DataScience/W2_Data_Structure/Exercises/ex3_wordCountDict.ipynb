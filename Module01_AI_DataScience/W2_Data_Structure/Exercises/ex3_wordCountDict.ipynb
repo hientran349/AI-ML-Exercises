{
 "cells": [
  {
   "cell_type": "code",
   "execution_count": 1,
   "metadata": {},
   "outputs": [
    {
     "name": "stdout",
     "output_type": "stream",
     "text": [
      "{'he': 1, 'who': 3, 'conquers': 1, 'himself': 1, 'is': 3, 'the': 4, 'mightiest': 1, 'warriortry': 1, 'not': 1, 'to': 3, 'become': 2, 'a': 6, 'man': 6, 'of': 4, 'success': 2, 'but': 1, 'rather': 1, 'valueone': 1, 'with': 4, 'courage': 1, 'makes': 1, 'majorityone': 1, 'secret': 1, 'in': 4, 'life': 2, 'for': 3, 'be': 1, 'ready': 1, 'his': 2, 'opportunity': 1, 'when': 2, 'it': 1, 'comesthe': 1, 'successful': 2, 'will': 2, 'profit': 1, 'from': 1, 'mistakes': 1, 'and': 1, 'try': 1, 'again': 1, 'different': 1, 'waya': 1, 'one': 2, 'can': 3, 'lay': 1, 'firm': 1, 'foundation': 1, 'bricks': 1, 'others': 1, 'have': 1, 'thrown': 1, 'at': 1, 'himsuccess': 1, 'usually': 1, 'comes': 1, 'those': 1, 'are': 1, 'too': 1, 'busy': 1, 'looking': 1, 'itwe': 1, 'cannot': 1, 'solve': 1, 'problems': 1, 'kind': 1, 'thinking': 1, 'we': 2, 'employed': 1, 'came': 1, 'up': 1, 'themjust': 1, 'small': 1, 'positive': 1, 'thought': 1, 'morning': 1, 'change': 1, 'your': 1, 'whole': 1, 'dayyou': 1, 'get': 2, 'everything': 1, 'you': 2, 'want': 2, 'if': 1, 'just': 1, 'help': 1, 'enough': 1, 'other': 1, 'people': 1, 'what': 1, 'they': 1}\n",
      "6\n"
     ]
    }
   ],
   "source": [
    "import gdown\n",
    "import string\n",
    "\n",
    "filePath = 'ex3_data.txt'  # Replace with your desired file name and extension\n",
    "# fileUrl = 'https://drive.google.com/uc?id=1IBScGdW2xlNsc9v5zSAya548kNgiOrko'\n",
    "# gdown.download(fileUrl, filePath, quiet=False)\n",
    "\n",
    "def removePunctuation(input_string):\n",
    "    # Create a string of punctuation and newline characters\n",
    "    punctuation = string.punctuation\n",
    "\n",
    "    # Use list comprehension to filter out punctuation and newline characters\n",
    "    return ''.join(char   for char in input_string   \n",
    "                            if char not in punctuation and char != '\\n')\n",
    "\n",
    "\n",
    "\n",
    "def wordCountDict(filePath):\n",
    "    # Read all data from the file\n",
    "    aFile = open(filePath, \"r\")\n",
    "    \n",
    "    data = aFile.read()\n",
    "    # dataLines = aFile.readlines()\n",
    "    aFile.close()\n",
    "\n",
    "\n",
    "    # # Preprocessing data by lines\n",
    "    # for index, line in enumerate(dataLines):\n",
    "    #     line = line.lower()\n",
    "    #     line = removePunctuation(line)\n",
    "    #     line = line.replace('\\n', '').replace('\\r', '') # Remove newline character\n",
    "    #     dataLines[index] = line #WRITE BACK\n",
    "\n",
    "    # # Split the words in all lines and join them\n",
    "    # wordList = [word   for line in dataLines  for word in line.split(\" \")]\n",
    "\n",
    "\n",
    "    # Preprocessing whole data\n",
    "    data = data.lower()\n",
    "    # data = removePunctuation(data)\n",
    "    data = data.replace('\\n', '').replace('\\r', '')\n",
    "    wordList = data.split(\" \")\n",
    "\n",
    "    # Count the words\n",
    "    result_dict = {}\n",
    "    for word in wordList: # go through all words in the word list\n",
    "\n",
    "        # Add/Update the item in the dictionary\n",
    "        #  result_dict.get(word, 0): get current value (default is 0 if not found)\n",
    "        result_dict[word] =  result_dict.get(word, 0) + 1\n",
    "\n",
    "    print(result_dict)\n",
    "    return result_dict\n",
    "\n",
    "\n",
    "\n",
    "# TRAC NGHIEM 3\n",
    "\n",
    "result = wordCountDict(filePath)\n",
    "assert result ['who'] == 3\n",
    "print (result ['man'])"
   ]
  }
 ],
 "metadata": {
  "kernelspec": {
   "display_name": "Python 3",
   "language": "python",
   "name": "python3"
  },
  "language_info": {
   "codemirror_mode": {
    "name": "ipython",
    "version": 3
   },
   "file_extension": ".py",
   "mimetype": "text/x-python",
   "name": "python",
   "nbconvert_exporter": "python",
   "pygments_lexer": "ipython3",
   "version": "3.10.6"
  }
 },
 "nbformat": 4,
 "nbformat_minor": 2
}
