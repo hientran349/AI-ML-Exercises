{
 "cells": [
  {
   "cell_type": "code",
   "execution_count": 5,
   "metadata": {},
   "outputs": [
    {
     "name": "stdout",
     "output_type": "stream",
     "text": [
      "[[None, None, None, None], [None, None, None, None], [None, None, None, None]]\n",
      "['#', 'y', 'yo', 'you']\n",
      "['#', 'u', '']\n"
     ]
    },
    {
     "ename": "TypeError",
     "evalue": "can only concatenate str (not \"int\") to str",
     "output_type": "error",
     "traceback": [
      "\u001b[1;31m---------------------------------------------------------------------------\u001b[0m",
      "\u001b[1;31mTypeError\u001b[0m                                 Traceback (most recent call last)",
      "Cell \u001b[1;32mIn[5], line 53\u001b[0m\n\u001b[0;32m     49\u001b[0m     \u001b[38;5;28;01mreturn\u001b[39;00m dMatrix[\u001b[38;5;241m-\u001b[39m\u001b[38;5;241m1\u001b[39m][\u001b[38;5;241m-\u001b[39m\u001b[38;5;241m1\u001b[39m]\n\u001b[0;32m     52\u001b[0m \u001b[38;5;66;03m# Test cases\u001b[39;00m\n\u001b[1;32m---> 53\u001b[0m \u001b[38;5;28mprint\u001b[39m(\u001b[43mlevenshtein_distance\u001b[49m\u001b[43m(\u001b[49m\u001b[38;5;124;43m\"\u001b[39;49m\u001b[38;5;124;43myu\u001b[39;49m\u001b[38;5;124;43m\"\u001b[39;49m\u001b[43m,\u001b[49m\u001b[43m \u001b[49m\u001b[38;5;124;43m\"\u001b[39;49m\u001b[38;5;124;43myou\u001b[39;49m\u001b[38;5;124;43m\"\u001b[39;49m\u001b[43m)\u001b[49m)  \u001b[38;5;66;03m# Expected output: 1\u001b[39;00m\n",
      "Cell \u001b[1;32mIn[5], line 38\u001b[0m, in \u001b[0;36mlevenshtein_distance\u001b[1;34m(source, target)\u001b[0m\n\u001b[0;32m     34\u001b[0m         \u001b[38;5;28;01melse\u001b[39;00m:\n\u001b[0;32m     35\u001b[0m             cost \u001b[38;5;241m=\u001b[39m \u001b[38;5;241m1\u001b[39m\n\u001b[0;32m     37\u001b[0m         dMatrix[i][j] \u001b[38;5;241m=\u001b[39m \u001b[38;5;28mmin\u001b[39m(\n\u001b[1;32m---> 38\u001b[0m             \u001b[43mdMatrix\u001b[49m\u001b[43m[\u001b[49m\u001b[43mi\u001b[49m\u001b[43m \u001b[49m\u001b[38;5;241;43m-\u001b[39;49m\u001b[43m \u001b[49m\u001b[38;5;241;43m1\u001b[39;49m\u001b[43m]\u001b[49m\u001b[43m[\u001b[49m\u001b[43mj\u001b[49m\u001b[43m]\u001b[49m\u001b[43m \u001b[49m\u001b[38;5;241;43m+\u001b[39;49m\u001b[43m \u001b[49m\u001b[38;5;241;43m1\u001b[39;49m,      \u001b[38;5;66;03m# Deletion\u001b[39;00m\n\u001b[0;32m     39\u001b[0m             dMatrix[i][j \u001b[38;5;241m-\u001b[39m \u001b[38;5;241m1\u001b[39m] \u001b[38;5;241m+\u001b[39m \u001b[38;5;241m1\u001b[39m,      \u001b[38;5;66;03m# Insertion\u001b[39;00m\n\u001b[0;32m     40\u001b[0m             dMatrix[i \u001b[38;5;241m-\u001b[39m \u001b[38;5;241m1\u001b[39m][j \u001b[38;5;241m-\u001b[39m \u001b[38;5;241m1\u001b[39m] \u001b[38;5;241m+\u001b[39m cost  \u001b[38;5;66;03m# Substitution\u001b[39;00m\n\u001b[0;32m     41\u001b[0m         )\n\u001b[0;32m     43\u001b[0m \u001b[38;5;66;03m# Print the final matrix for verification\u001b[39;00m\n\u001b[0;32m     44\u001b[0m \u001b[38;5;28mprint\u001b[39m(\u001b[38;5;124m\"\u001b[39m\u001b[38;5;124mFinal dMatrix:\u001b[39m\u001b[38;5;124m\"\u001b[39m)\n",
      "\u001b[1;31mTypeError\u001b[0m: can only concatenate str (not \"int\") to str"
     ]
    }
   ],
   "source": [
    "def levenshtein_distance(source, target):\n",
    "    \n",
    "    ## STEP 1. Create 2D-dMatrix  [len(source) + 1]  x  [len(target) + 1]\n",
    "    dMatrix = [[None] * (len(target) + 1) for _ in range(len(source) + 1)]\n",
    "    print(dMatrix)\n",
    "\n",
    "\n",
    "    ## STEP 2. Fill the first-row and first-column\n",
    "\n",
    "    # Fill in the first-row\n",
    "    dMatrix[0][0] = \"#\"\n",
    "    for i in range(1, len(dMatrix[0])) :\n",
    "        # if (i == 1) :\n",
    "        #     dMatrix[0][1] = target[0]\n",
    "        # else :\n",
    "        #     dMatrix[0][i] = dMatrix[0][i - 1] + target[i - 1]\n",
    "        dMatrix[0][i] = target[0 : i]\n",
    "\n",
    "    print (dMatrix[0])\n",
    "\n",
    "    # Fill in the first-column\n",
    "    for j in range(1, len(dMatrix)) :\n",
    "        dMatrix[j][0] = source[j:]\n",
    "\n",
    "    firstCol = [ dMatrix[j][0]  for j in range(len(dMatrix)) ]\n",
    "    print(firstCol)\n",
    "\n",
    "\n",
    "    # STEP 3\n",
    "    # STEP 4\n",
    "    \n",
    "\n",
    "\n",
    "# Test cases\n",
    "print(levenshtein_distance(\"yu\", \"you\"))  # Expected output: 1\n",
    "\n"
   ]
  }
 ],
 "metadata": {
  "kernelspec": {
   "display_name": "Python 3",
   "language": "python",
   "name": "python3"
  },
  "language_info": {
   "codemirror_mode": {
    "name": "ipython",
    "version": 3
   },
   "file_extension": ".py",
   "mimetype": "text/x-python",
   "name": "python",
   "nbconvert_exporter": "python",
   "pygments_lexer": "ipython3",
   "version": "3.10.6"
  }
 },
 "nbformat": 4,
 "nbformat_minor": 2
}
